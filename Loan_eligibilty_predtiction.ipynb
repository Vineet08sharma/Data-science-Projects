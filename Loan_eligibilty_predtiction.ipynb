{
 "cells": [
  {
   "cell_type": "code",
   "execution_count": 1,
   "id": "01786cc2",
   "metadata": {},
   "outputs": [],
   "source": [
    "from warnings import filterwarnings\n",
    "filterwarnings(\"ignore\")"
   ]
  },
  {
   "cell_type": "markdown",
   "id": "bdd9738f",
   "metadata": {},
   "source": [
    "# Read Data"
   ]
  },
  {
   "cell_type": "code",
   "execution_count": 2,
   "id": "2b9435c2",
   "metadata": {},
   "outputs": [],
   "source": [
    "import pandas as pd\n",
    "A = pd.read_csv(\"D:/Downloads/Projects/training_set.csv\")"
   ]
  },
  {
   "cell_type": "code",
   "execution_count": 3,
   "id": "ea437140",
   "metadata": {},
   "outputs": [
    {
     "data": {
      "text/html": [
       "<div>\n",
       "<style scoped>\n",
       "    .dataframe tbody tr th:only-of-type {\n",
       "        vertical-align: middle;\n",
       "    }\n",
       "\n",
       "    .dataframe tbody tr th {\n",
       "        vertical-align: top;\n",
       "    }\n",
       "\n",
       "    .dataframe thead th {\n",
       "        text-align: right;\n",
       "    }\n",
       "</style>\n",
       "<table border=\"1\" class=\"dataframe\">\n",
       "  <thead>\n",
       "    <tr style=\"text-align: right;\">\n",
       "      <th></th>\n",
       "      <th>Loan_ID</th>\n",
       "      <th>Gender</th>\n",
       "      <th>Married</th>\n",
       "      <th>Dependents</th>\n",
       "      <th>Education</th>\n",
       "      <th>Self_Employed</th>\n",
       "      <th>ApplicantIncome</th>\n",
       "      <th>CoapplicantIncome</th>\n",
       "      <th>LoanAmount</th>\n",
       "      <th>Loan_Amount_Term</th>\n",
       "      <th>Credit_History</th>\n",
       "      <th>Property_Area</th>\n",
       "      <th>Loan_Status</th>\n",
       "    </tr>\n",
       "  </thead>\n",
       "  <tbody>\n",
       "    <tr>\n",
       "      <th>0</th>\n",
       "      <td>LP001002</td>\n",
       "      <td>Male</td>\n",
       "      <td>No</td>\n",
       "      <td>0</td>\n",
       "      <td>Graduate</td>\n",
       "      <td>No</td>\n",
       "      <td>5849.0</td>\n",
       "      <td>0.0</td>\n",
       "      <td>NaN</td>\n",
       "      <td>360.0</td>\n",
       "      <td>1.0</td>\n",
       "      <td>Urban</td>\n",
       "      <td>Y</td>\n",
       "    </tr>\n",
       "    <tr>\n",
       "      <th>1</th>\n",
       "      <td>LP001003</td>\n",
       "      <td>Male</td>\n",
       "      <td>Yes</td>\n",
       "      <td>1</td>\n",
       "      <td>Graduate</td>\n",
       "      <td>No</td>\n",
       "      <td>NaN</td>\n",
       "      <td>1508.0</td>\n",
       "      <td>128.0</td>\n",
       "      <td>360.0</td>\n",
       "      <td>1.0</td>\n",
       "      <td>Rural</td>\n",
       "      <td>N</td>\n",
       "    </tr>\n",
       "    <tr>\n",
       "      <th>2</th>\n",
       "      <td>LP001005</td>\n",
       "      <td>Male</td>\n",
       "      <td>Yes</td>\n",
       "      <td>0</td>\n",
       "      <td>Graduate</td>\n",
       "      <td>Yes</td>\n",
       "      <td>3000.0</td>\n",
       "      <td>0.0</td>\n",
       "      <td>66.0</td>\n",
       "      <td>360.0</td>\n",
       "      <td>1.0</td>\n",
       "      <td>Urban</td>\n",
       "      <td>Y</td>\n",
       "    </tr>\n",
       "    <tr>\n",
       "      <th>3</th>\n",
       "      <td>LP001006</td>\n",
       "      <td>Male</td>\n",
       "      <td>Yes</td>\n",
       "      <td>0</td>\n",
       "      <td>Not Graduate</td>\n",
       "      <td>No</td>\n",
       "      <td>2583.0</td>\n",
       "      <td>2358.0</td>\n",
       "      <td>120.0</td>\n",
       "      <td>360.0</td>\n",
       "      <td>1.0</td>\n",
       "      <td>Urban</td>\n",
       "      <td>Y</td>\n",
       "    </tr>\n",
       "    <tr>\n",
       "      <th>4</th>\n",
       "      <td>LP001008</td>\n",
       "      <td>Male</td>\n",
       "      <td>No</td>\n",
       "      <td>0</td>\n",
       "      <td>Graduate</td>\n",
       "      <td>No</td>\n",
       "      <td>6000.0</td>\n",
       "      <td>0.0</td>\n",
       "      <td>141.0</td>\n",
       "      <td>360.0</td>\n",
       "      <td>1.0</td>\n",
       "      <td>Urban</td>\n",
       "      <td>Y</td>\n",
       "    </tr>\n",
       "  </tbody>\n",
       "</table>\n",
       "</div>"
      ],
      "text/plain": [
       "    Loan_ID Gender Married Dependents     Education Self_Employed  \\\n",
       "0  LP001002   Male      No          0      Graduate            No   \n",
       "1  LP001003   Male     Yes          1      Graduate            No   \n",
       "2  LP001005   Male     Yes          0      Graduate           Yes   \n",
       "3  LP001006   Male     Yes          0  Not Graduate            No   \n",
       "4  LP001008   Male      No          0      Graduate            No   \n",
       "\n",
       "   ApplicantIncome  CoapplicantIncome  LoanAmount  Loan_Amount_Term  \\\n",
       "0           5849.0                0.0         NaN             360.0   \n",
       "1              NaN             1508.0       128.0             360.0   \n",
       "2           3000.0                0.0        66.0             360.0   \n",
       "3           2583.0             2358.0       120.0             360.0   \n",
       "4           6000.0                0.0       141.0             360.0   \n",
       "\n",
       "   Credit_History Property_Area Loan_Status  \n",
       "0             1.0         Urban           Y  \n",
       "1             1.0         Rural           N  \n",
       "2             1.0         Urban           Y  \n",
       "3             1.0         Urban           Y  \n",
       "4             1.0         Urban           Y  "
      ]
     },
     "execution_count": 3,
     "metadata": {},
     "output_type": "execute_result"
    }
   ],
   "source": [
    "A.head()"
   ]
  },
  {
   "cell_type": "code",
   "execution_count": 4,
   "id": "70291663",
   "metadata": {},
   "outputs": [
    {
     "data": {
      "text/plain": [
       "Loan_ID               0\n",
       "Gender               15\n",
       "Married               3\n",
       "Dependents           15\n",
       "Education             1\n",
       "Self_Employed        32\n",
       "ApplicantIncome       2\n",
       "CoapplicantIncome     1\n",
       "LoanAmount           22\n",
       "Loan_Amount_Term     14\n",
       "Credit_History       50\n",
       "Property_Area         0\n",
       "Loan_Status           0\n",
       "dtype: int64"
      ]
     },
     "execution_count": 4,
     "metadata": {},
     "output_type": "execute_result"
    }
   ],
   "source": [
    "A.isna().sum()"
   ]
  },
  {
   "cell_type": "code",
   "execution_count": 5,
   "id": "f8d584f2",
   "metadata": {},
   "outputs": [],
   "source": [
    "from preprocessing_6PM import replacer\n",
    "replacer(A)"
   ]
  },
  {
   "cell_type": "code",
   "execution_count": 6,
   "id": "5463a6bf",
   "metadata": {},
   "outputs": [
    {
     "data": {
      "text/plain": [
       "Loan_ID              0\n",
       "Gender               0\n",
       "Married              0\n",
       "Dependents           0\n",
       "Education            0\n",
       "Self_Employed        0\n",
       "ApplicantIncome      0\n",
       "CoapplicantIncome    0\n",
       "LoanAmount           0\n",
       "Loan_Amount_Term     0\n",
       "Credit_History       0\n",
       "Property_Area        0\n",
       "Loan_Status          0\n",
       "dtype: int64"
      ]
     },
     "execution_count": 6,
     "metadata": {},
     "output_type": "execute_result"
    }
   ],
   "source": [
    "A.isna().sum()"
   ]
  },
  {
   "cell_type": "markdown",
   "id": "7e8077e0",
   "metadata": {},
   "source": [
    "# Define Y"
   ]
  },
  {
   "cell_type": "code",
   "execution_count": 7,
   "id": "c5999280",
   "metadata": {},
   "outputs": [],
   "source": [
    "Y = A[[\"Loan_Status\"]]"
   ]
  },
  {
   "cell_type": "markdown",
   "id": "c107ff7e",
   "metadata": {},
   "source": [
    "# Drop Statistically Unimportant"
   ]
  },
  {
   "cell_type": "code",
   "execution_count": 8,
   "id": "c8da1bd5",
   "metadata": {},
   "outputs": [
    {
     "data": {
      "text/html": [
       "<div>\n",
       "<style scoped>\n",
       "    .dataframe tbody tr th:only-of-type {\n",
       "        vertical-align: middle;\n",
       "    }\n",
       "\n",
       "    .dataframe tbody tr th {\n",
       "        vertical-align: top;\n",
       "    }\n",
       "\n",
       "    .dataframe thead th {\n",
       "        text-align: right;\n",
       "    }\n",
       "</style>\n",
       "<table border=\"1\" class=\"dataframe\">\n",
       "  <thead>\n",
       "    <tr style=\"text-align: right;\">\n",
       "      <th></th>\n",
       "      <th>Loan_ID</th>\n",
       "      <th>Gender</th>\n",
       "      <th>Married</th>\n",
       "      <th>Dependents</th>\n",
       "      <th>Education</th>\n",
       "      <th>Self_Employed</th>\n",
       "      <th>ApplicantIncome</th>\n",
       "      <th>CoapplicantIncome</th>\n",
       "      <th>LoanAmount</th>\n",
       "      <th>Loan_Amount_Term</th>\n",
       "      <th>Credit_History</th>\n",
       "      <th>Property_Area</th>\n",
       "      <th>Loan_Status</th>\n",
       "    </tr>\n",
       "  </thead>\n",
       "  <tbody>\n",
       "    <tr>\n",
       "      <th>0</th>\n",
       "      <td>LP001002</td>\n",
       "      <td>Male</td>\n",
       "      <td>No</td>\n",
       "      <td>0</td>\n",
       "      <td>Graduate</td>\n",
       "      <td>No</td>\n",
       "      <td>5849.00000</td>\n",
       "      <td>0.0</td>\n",
       "      <td>146.412162</td>\n",
       "      <td>360.0</td>\n",
       "      <td>1.0</td>\n",
       "      <td>Urban</td>\n",
       "      <td>Y</td>\n",
       "    </tr>\n",
       "    <tr>\n",
       "      <th>1</th>\n",
       "      <td>LP001003</td>\n",
       "      <td>Male</td>\n",
       "      <td>Yes</td>\n",
       "      <td>1</td>\n",
       "      <td>Graduate</td>\n",
       "      <td>No</td>\n",
       "      <td>5405.54085</td>\n",
       "      <td>1508.0</td>\n",
       "      <td>128.000000</td>\n",
       "      <td>360.0</td>\n",
       "      <td>1.0</td>\n",
       "      <td>Rural</td>\n",
       "      <td>N</td>\n",
       "    </tr>\n",
       "    <tr>\n",
       "      <th>2</th>\n",
       "      <td>LP001005</td>\n",
       "      <td>Male</td>\n",
       "      <td>Yes</td>\n",
       "      <td>0</td>\n",
       "      <td>Graduate</td>\n",
       "      <td>Yes</td>\n",
       "      <td>3000.00000</td>\n",
       "      <td>0.0</td>\n",
       "      <td>66.000000</td>\n",
       "      <td>360.0</td>\n",
       "      <td>1.0</td>\n",
       "      <td>Urban</td>\n",
       "      <td>Y</td>\n",
       "    </tr>\n",
       "    <tr>\n",
       "      <th>3</th>\n",
       "      <td>LP001006</td>\n",
       "      <td>Male</td>\n",
       "      <td>Yes</td>\n",
       "      <td>0</td>\n",
       "      <td>Not Graduate</td>\n",
       "      <td>No</td>\n",
       "      <td>2583.00000</td>\n",
       "      <td>2358.0</td>\n",
       "      <td>120.000000</td>\n",
       "      <td>360.0</td>\n",
       "      <td>1.0</td>\n",
       "      <td>Urban</td>\n",
       "      <td>Y</td>\n",
       "    </tr>\n",
       "    <tr>\n",
       "      <th>4</th>\n",
       "      <td>LP001008</td>\n",
       "      <td>Male</td>\n",
       "      <td>No</td>\n",
       "      <td>0</td>\n",
       "      <td>Graduate</td>\n",
       "      <td>No</td>\n",
       "      <td>6000.00000</td>\n",
       "      <td>0.0</td>\n",
       "      <td>141.000000</td>\n",
       "      <td>360.0</td>\n",
       "      <td>1.0</td>\n",
       "      <td>Urban</td>\n",
       "      <td>Y</td>\n",
       "    </tr>\n",
       "  </tbody>\n",
       "</table>\n",
       "</div>"
      ],
      "text/plain": [
       "    Loan_ID Gender Married Dependents     Education Self_Employed  \\\n",
       "0  LP001002   Male      No          0      Graduate            No   \n",
       "1  LP001003   Male     Yes          1      Graduate            No   \n",
       "2  LP001005   Male     Yes          0      Graduate           Yes   \n",
       "3  LP001006   Male     Yes          0  Not Graduate            No   \n",
       "4  LP001008   Male      No          0      Graduate            No   \n",
       "\n",
       "   ApplicantIncome  CoapplicantIncome  LoanAmount  Loan_Amount_Term  \\\n",
       "0       5849.00000                0.0  146.412162             360.0   \n",
       "1       5405.54085             1508.0  128.000000             360.0   \n",
       "2       3000.00000                0.0   66.000000             360.0   \n",
       "3       2583.00000             2358.0  120.000000             360.0   \n",
       "4       6000.00000                0.0  141.000000             360.0   \n",
       "\n",
       "   Credit_History Property_Area Loan_Status  \n",
       "0             1.0         Urban           Y  \n",
       "1             1.0         Rural           N  \n",
       "2             1.0         Urban           Y  \n",
       "3             1.0         Urban           Y  \n",
       "4             1.0         Urban           Y  "
      ]
     },
     "execution_count": 8,
     "metadata": {},
     "output_type": "execute_result"
    }
   ],
   "source": [
    "A.head()"
   ]
  },
  {
   "cell_type": "code",
   "execution_count": 9,
   "id": "c0f07a4b",
   "metadata": {},
   "outputs": [],
   "source": [
    "X = A.drop(labels=[\"Loan_ID\",\"Loan_Status\"],axis=1)"
   ]
  },
  {
   "cell_type": "markdown",
   "id": "308f4957",
   "metadata": {},
   "source": [
    "# Exploratory analysis"
   ]
  },
  {
   "cell_type": "code",
   "execution_count": 10,
   "id": "ab7fb25d",
   "metadata": {},
   "outputs": [],
   "source": [
    "cat = []\n",
    "con = []\n",
    "for i in X.columns:\n",
    "    if(X[i].dtypes ==\"object\"):\n",
    "        cat.append(i)\n",
    "    else:\n",
    "        con.append(i)"
   ]
  },
  {
   "cell_type": "code",
   "execution_count": 11,
   "id": "02b145c6",
   "metadata": {},
   "outputs": [],
   "source": [
    "imp_cols = []"
   ]
  },
  {
   "cell_type": "code",
   "execution_count": 12,
   "id": "354a8957",
   "metadata": {},
   "outputs": [
    {
     "name": "stdout",
     "output_type": "stream",
     "text": [
      "-----------------\n",
      "Loan_Status vs  ApplicantIncome\n",
      "pval:  0.903\n",
      "-----------------\n",
      "Loan_Status vs  CoapplicantIncome\n",
      "pval:  0.142\n",
      "-----------------\n",
      "Loan_Status vs  LoanAmount\n",
      "pval:  0.368\n",
      "-----------------\n",
      "Loan_Status vs  Loan_Amount_Term\n",
      "pval:  0.604\n",
      "-----------------\n",
      "Loan_Status vs  Credit_History\n",
      "pval:  0.0\n"
     ]
    }
   ],
   "source": [
    "from preprocessing_6PM import ANOVA, chisquare\n",
    "for i in con:\n",
    "    q = ANOVA(A,\"Loan_Status\",i)\n",
    "    print(\"-----------------\")\n",
    "    print(\"Loan_Status vs \",i)\n",
    "    print(\"pval: \",q)\n",
    "    if(q < 0.5):\n",
    "        imp_cols.append(i)"
   ]
  },
  {
   "cell_type": "code",
   "execution_count": 13,
   "id": "a0fb770f",
   "metadata": {},
   "outputs": [
    {
     "name": "stdout",
     "output_type": "stream",
     "text": [
      "-------------------------\n",
      "Loan_Status vs  Gender\n",
      "Pval:  0.7391461310869638\n",
      "-------------------------\n",
      "Loan_Status vs  Married\n",
      "Pval:  0.029608580862582116\n",
      "-------------------------\n",
      "Loan_Status vs  Dependents\n",
      "Pval:  0.3688663081366005\n",
      "-------------------------\n",
      "Loan_Status vs  Education\n",
      "Pval:  0.04309962129357355\n",
      "-------------------------\n",
      "Loan_Status vs  Self_Employed\n",
      "Pval:  0.9710746411403309\n",
      "-------------------------\n",
      "Loan_Status vs  Property_Area\n",
      "Pval:  0.0021360187811644915\n"
     ]
    }
   ],
   "source": [
    "for i in cat:\n",
    "    q = chisquare(A,\"Loan_Status\",i)\n",
    "    print(\"-------------------------\")\n",
    "    print(\"Loan_Status vs \",i)\n",
    "    print(\"Pval: \",q)\n",
    "    if(q < 0.5):\n",
    "        imp_cols.append(i)"
   ]
  },
  {
   "cell_type": "code",
   "execution_count": 14,
   "id": "ad788bf9",
   "metadata": {},
   "outputs": [
    {
     "data": {
      "text/plain": [
       "['CoapplicantIncome',\n",
       " 'LoanAmount',\n",
       " 'Credit_History',\n",
       " 'Married',\n",
       " 'Dependents',\n",
       " 'Education',\n",
       " 'Property_Area']"
      ]
     },
     "execution_count": 14,
     "metadata": {},
     "output_type": "execute_result"
    }
   ],
   "source": [
    "imp_cols"
   ]
  },
  {
   "cell_type": "markdown",
   "id": "c2130e0b",
   "metadata": {},
   "source": [
    "# Preprocessing"
   ]
  },
  {
   "cell_type": "code",
   "execution_count": 15,
   "id": "324be7e0",
   "metadata": {},
   "outputs": [
    {
     "data": {
      "text/plain": [
       "ApplicantIncome      6.538870\n",
       "CoapplicantIncome    7.492000\n",
       "LoanAmount           2.726601\n",
       "Loan_Amount_Term    -2.389680\n",
       "Credit_History      -1.963600\n",
       "dtype: float64"
      ]
     },
     "execution_count": 15,
     "metadata": {},
     "output_type": "execute_result"
    }
   ],
   "source": [
    "X.skew()"
   ]
  },
  {
   "cell_type": "code",
   "execution_count": 16,
   "id": "c075d007",
   "metadata": {},
   "outputs": [],
   "source": [
    "from numpy import log\n",
    "\n",
    "def skew_rem(df,col):\n",
    "    q = []\n",
    "    for i in df[col]:\n",
    "        if(i != 0):\n",
    "            q.append(log(i))\n",
    "        else:\n",
    "            q.append(i)\n",
    "    df[col] = q"
   ]
  },
  {
   "cell_type": "code",
   "execution_count": 17,
   "id": "39befe28",
   "metadata": {},
   "outputs": [],
   "source": [
    "skew_rem(X,'ApplicantIncome')\n",
    "skew_rem(X,'CoapplicantIncome')"
   ]
  },
  {
   "cell_type": "code",
   "execution_count": 18,
   "id": "adb51c6f",
   "metadata": {},
   "outputs": [
    {
     "data": {
      "text/plain": [
       "ApplicantIncome      0.477562\n",
       "CoapplicantIncome   -0.172920\n",
       "LoanAmount           2.726601\n",
       "Loan_Amount_Term    -2.389680\n",
       "Credit_History      -1.963600\n",
       "dtype: float64"
      ]
     },
     "execution_count": 18,
     "metadata": {},
     "output_type": "execute_result"
    }
   ],
   "source": [
    "X.skew()"
   ]
  },
  {
   "cell_type": "code",
   "execution_count": 19,
   "id": "0ceb8c1c",
   "metadata": {},
   "outputs": [],
   "source": [
    "from preprocessing_6PM import data_prep\n",
    "Xnew = data_prep(X[imp_cols])"
   ]
  },
  {
   "cell_type": "code",
   "execution_count": 20,
   "id": "5c7a8f5d",
   "metadata": {},
   "outputs": [
    {
     "data": {
      "text/html": [
       "<div>\n",
       "<style scoped>\n",
       "    .dataframe tbody tr th:only-of-type {\n",
       "        vertical-align: middle;\n",
       "    }\n",
       "\n",
       "    .dataframe tbody tr th {\n",
       "        vertical-align: top;\n",
       "    }\n",
       "\n",
       "    .dataframe thead th {\n",
       "        text-align: right;\n",
       "    }\n",
       "</style>\n",
       "<table border=\"1\" class=\"dataframe\">\n",
       "  <thead>\n",
       "    <tr style=\"text-align: right;\">\n",
       "      <th></th>\n",
       "      <th>CoapplicantIncome</th>\n",
       "      <th>LoanAmount</th>\n",
       "      <th>Credit_History</th>\n",
       "      <th>Married_No</th>\n",
       "      <th>Married_Yes</th>\n",
       "      <th>Dependents_0</th>\n",
       "      <th>Dependents_1</th>\n",
       "      <th>Dependents_2</th>\n",
       "      <th>Dependents_3+</th>\n",
       "      <th>Education_Graduate</th>\n",
       "      <th>Education_Not Graduate</th>\n",
       "      <th>Property_Area_Rural</th>\n",
       "      <th>Property_Area_Semiurban</th>\n",
       "      <th>Property_Area_Urban</th>\n",
       "    </tr>\n",
       "  </thead>\n",
       "  <tbody>\n",
       "    <tr>\n",
       "      <th>0</th>\n",
       "      <td>-1.107731</td>\n",
       "      <td>0.000000</td>\n",
       "      <td>0.45164</td>\n",
       "      <td>1</td>\n",
       "      <td>0</td>\n",
       "      <td>1</td>\n",
       "      <td>0</td>\n",
       "      <td>0</td>\n",
       "      <td>0</td>\n",
       "      <td>1</td>\n",
       "      <td>0</td>\n",
       "      <td>0</td>\n",
       "      <td>0</td>\n",
       "      <td>1</td>\n",
       "    </tr>\n",
       "    <tr>\n",
       "      <th>1</th>\n",
       "      <td>0.782215</td>\n",
       "      <td>-0.219273</td>\n",
       "      <td>0.45164</td>\n",
       "      <td>0</td>\n",
       "      <td>1</td>\n",
       "      <td>0</td>\n",
       "      <td>1</td>\n",
       "      <td>0</td>\n",
       "      <td>0</td>\n",
       "      <td>1</td>\n",
       "      <td>0</td>\n",
       "      <td>1</td>\n",
       "      <td>0</td>\n",
       "      <td>0</td>\n",
       "    </tr>\n",
       "    <tr>\n",
       "      <th>2</th>\n",
       "      <td>-1.107731</td>\n",
       "      <td>-0.957641</td>\n",
       "      <td>0.45164</td>\n",
       "      <td>0</td>\n",
       "      <td>1</td>\n",
       "      <td>1</td>\n",
       "      <td>0</td>\n",
       "      <td>0</td>\n",
       "      <td>0</td>\n",
       "      <td>1</td>\n",
       "      <td>0</td>\n",
       "      <td>0</td>\n",
       "      <td>0</td>\n",
       "      <td>1</td>\n",
       "    </tr>\n",
       "    <tr>\n",
       "      <th>3</th>\n",
       "      <td>0.897656</td>\n",
       "      <td>-0.314547</td>\n",
       "      <td>0.45164</td>\n",
       "      <td>0</td>\n",
       "      <td>1</td>\n",
       "      <td>1</td>\n",
       "      <td>0</td>\n",
       "      <td>0</td>\n",
       "      <td>0</td>\n",
       "      <td>0</td>\n",
       "      <td>1</td>\n",
       "      <td>0</td>\n",
       "      <td>0</td>\n",
       "      <td>1</td>\n",
       "    </tr>\n",
       "    <tr>\n",
       "      <th>4</th>\n",
       "      <td>-1.107731</td>\n",
       "      <td>-0.064454</td>\n",
       "      <td>0.45164</td>\n",
       "      <td>1</td>\n",
       "      <td>0</td>\n",
       "      <td>1</td>\n",
       "      <td>0</td>\n",
       "      <td>0</td>\n",
       "      <td>0</td>\n",
       "      <td>1</td>\n",
       "      <td>0</td>\n",
       "      <td>0</td>\n",
       "      <td>0</td>\n",
       "      <td>1</td>\n",
       "    </tr>\n",
       "  </tbody>\n",
       "</table>\n",
       "</div>"
      ],
      "text/plain": [
       "   CoapplicantIncome  LoanAmount  Credit_History  Married_No  Married_Yes  \\\n",
       "0          -1.107731    0.000000         0.45164           1            0   \n",
       "1           0.782215   -0.219273         0.45164           0            1   \n",
       "2          -1.107731   -0.957641         0.45164           0            1   \n",
       "3           0.897656   -0.314547         0.45164           0            1   \n",
       "4          -1.107731   -0.064454         0.45164           1            0   \n",
       "\n",
       "   Dependents_0  Dependents_1  Dependents_2  Dependents_3+  \\\n",
       "0             1             0             0              0   \n",
       "1             0             1             0              0   \n",
       "2             1             0             0              0   \n",
       "3             1             0             0              0   \n",
       "4             1             0             0              0   \n",
       "\n",
       "   Education_Graduate  Education_Not Graduate  Property_Area_Rural  \\\n",
       "0                   1                       0                    0   \n",
       "1                   1                       0                    1   \n",
       "2                   1                       0                    0   \n",
       "3                   0                       1                    0   \n",
       "4                   1                       0                    0   \n",
       "\n",
       "   Property_Area_Semiurban  Property_Area_Urban  \n",
       "0                        0                    1  \n",
       "1                        0                    0  \n",
       "2                        0                    1  \n",
       "3                        0                    1  \n",
       "4                        0                    1  "
      ]
     },
     "execution_count": 20,
     "metadata": {},
     "output_type": "execute_result"
    }
   ],
   "source": [
    "Xnew.head()"
   ]
  },
  {
   "cell_type": "markdown",
   "id": "a88fe652",
   "metadata": {},
   "source": [
    "# Divide Data into traing and testing split"
   ]
  },
  {
   "cell_type": "code",
   "execution_count": 21,
   "id": "cda37dd4",
   "metadata": {},
   "outputs": [],
   "source": [
    "from sklearn.model_selection import train_test_split\n",
    "xtrain,xtest,ytrain,ytest = train_test_split(Xnew,Y,test_size=0.2,random_state=21)"
   ]
  },
  {
   "cell_type": "markdown",
   "id": "9cb81892",
   "metadata": {},
   "source": [
    "# Create ML Model"
   ]
  },
  {
   "cell_type": "code",
   "execution_count": 22,
   "id": "2efcf7c9",
   "metadata": {},
   "outputs": [],
   "source": [
    "from sklearn.linear_model import LogisticRegression\n",
    "lr = LogisticRegression()\n",
    "model = lr.fit(xtrain,ytrain)"
   ]
  },
  {
   "cell_type": "markdown",
   "id": "e03c12ac",
   "metadata": {},
   "source": [
    "# Create Predictions"
   ]
  },
  {
   "cell_type": "code",
   "execution_count": 23,
   "id": "101d8ebe",
   "metadata": {},
   "outputs": [],
   "source": [
    "pred_tr = model.predict(xtrain)\n",
    "pred_ts = model.predict(xtest)"
   ]
  },
  {
   "cell_type": "markdown",
   "id": "6865db1c",
   "metadata": {},
   "source": [
    "# Error/Loss Overfitting?"
   ]
  },
  {
   "cell_type": "code",
   "execution_count": 24,
   "id": "e329ad8d",
   "metadata": {},
   "outputs": [],
   "source": [
    "from sklearn.metrics import accuracy_score\n",
    "tr_acc = accuracy_score(ytrain,pred_tr)\n",
    "ts_acc = accuracy_score(ytest,pred_ts)"
   ]
  },
  {
   "cell_type": "code",
   "execution_count": 25,
   "id": "42a714f8",
   "metadata": {},
   "outputs": [
    {
     "data": {
      "text/plain": [
       "0.8044806517311609"
      ]
     },
     "execution_count": 25,
     "metadata": {},
     "output_type": "execute_result"
    }
   ],
   "source": [
    "tr_acc"
   ]
  },
  {
   "cell_type": "code",
   "execution_count": 26,
   "id": "1fdec18f",
   "metadata": {},
   "outputs": [
    {
     "data": {
      "text/plain": [
       "0.8130081300813008"
      ]
     },
     "execution_count": 26,
     "metadata": {},
     "output_type": "execute_result"
    }
   ],
   "source": [
    "ts_acc"
   ]
  },
  {
   "cell_type": "markdown",
   "id": "80c8deda",
   "metadata": {},
   "source": [
    "# Try tree Model"
   ]
  },
  {
   "cell_type": "code",
   "execution_count": 27,
   "id": "4d2ead54",
   "metadata": {},
   "outputs": [],
   "source": [
    "X = A.drop(labels=[\"Loan_ID\",\"Loan_Status\"],axis=1)\n",
    "Xnew = data_prep(X)\n",
    "from sklearn.model_selection import train_test_split\n",
    "xtrain,xtest,ytrain,ytest=train_test_split(Xnew,Y,test_size=0.2,random_state=21)\n",
    "\n",
    "from sklearn.tree import DecisionTreeClassifier\n",
    "dtc = DecisionTreeClassifier()\n",
    "model = dtc.fit(xtrain,ytrain)\n",
    "\n",
    "pred_tr = model.predict(xtrain)\n",
    "pred_ts = model.predict(xtest)\n",
    "\n",
    "from sklearn.metrics import accuracy_score\n",
    "tr_acc = accuracy_score(ytrain,pred_tr)\n",
    "ts_acc = accuracy_score(ytest,pred_ts)"
   ]
  },
  {
   "cell_type": "code",
   "execution_count": 28,
   "id": "5f7f36ed",
   "metadata": {},
   "outputs": [
    {
     "data": {
      "text/plain": [
       "1.0"
      ]
     },
     "execution_count": 28,
     "metadata": {},
     "output_type": "execute_result"
    }
   ],
   "source": [
    "tr_acc"
   ]
  },
  {
   "cell_type": "code",
   "execution_count": 29,
   "id": "113d72e3",
   "metadata": {},
   "outputs": [
    {
     "data": {
      "text/plain": [
       "0.7154471544715447"
      ]
     },
     "execution_count": 29,
     "metadata": {},
     "output_type": "execute_result"
    }
   ],
   "source": [
    "ts_acc"
   ]
  },
  {
   "cell_type": "code",
   "execution_count": 30,
   "id": "c90e691f",
   "metadata": {},
   "outputs": [],
   "source": [
    "from sklearn.tree import DecisionTreeClassifier\n",
    "dtc = DecisionTreeClassifier()\n",
    "def tree(dtc):\n",
    "    model = dtc.fit(xtrain,ytrain)\n",
    "    pred_tr = model.predict(xtrain)\n",
    "    pred_ts = model.predict(xtest)\n",
    "    from sklearn.metrics import accuracy_score\n",
    "    tr_acc = accuracy_score(ytrain,pred_tr)\n",
    "    ts_acc = accuracy_score(ytest,pred_ts)\n",
    "    return tr_acc,ts_acc"
   ]
  },
  {
   "cell_type": "code",
   "execution_count": 32,
   "id": "d269e84e",
   "metadata": {},
   "outputs": [
    {
     "data": {
      "text/plain": [
       "(1.0, 0.6747967479674797)"
      ]
     },
     "execution_count": 32,
     "metadata": {},
     "output_type": "execute_result"
    }
   ],
   "source": [
    "tree(dtc)"
   ]
  },
  {
   "cell_type": "code",
   "execution_count": 33,
   "id": "4e2b2960",
   "metadata": {},
   "outputs": [
    {
     "name": "stdout",
     "output_type": "stream",
     "text": [
      "(0.814663951120163, 0.8211382113821138)\n",
      "(0.814663951120163, 0.8211382113821138)\n",
      "(0.8268839103869654, 0.7886178861788617)\n",
      "(0.8370672097759674, 0.8048780487804879)\n",
      "(0.8553971486761711, 0.7886178861788617)\n",
      "(0.8737270875763747, 0.7804878048780488)\n",
      "(0.890020366598778, 0.7723577235772358)\n",
      "(0.90020366598778, 0.7642276422764228)\n",
      "(0.9226069246435845, 0.7642276422764228)\n",
      "(0.9389002036659878, 0.7154471544715447)\n",
      "(0.9531568228105907, 0.6991869918699187)\n",
      "(0.9613034623217923, 0.6910569105691057)\n",
      "(0.9674134419551935, 0.6747967479674797)\n",
      "(0.9796334012219959, 0.6829268292682927)\n",
      "(0.9877800407331976, 0.7073170731707317)\n",
      "(0.9959266802443992, 0.6910569105691057)\n",
      "(0.9979633401221996, 0.6829268292682927)\n",
      "(1.0, 0.6910569105691057)\n",
      "(1.0, 0.6910569105691057)\n",
      "(1.0, 0.6910569105691057)\n",
      "(1.0, 0.6910569105691057)\n",
      "(1.0, 0.6910569105691057)\n",
      "(1.0, 0.6910569105691057)\n",
      "(1.0, 0.6910569105691057)\n",
      "(1.0, 0.6910569105691057)\n",
      "(1.0, 0.6910569105691057)\n",
      "(1.0, 0.6910569105691057)\n",
      "(1.0, 0.6910569105691057)\n"
     ]
    }
   ],
   "source": [
    "for i in range(2,30,1):\n",
    "    from sklearn.tree import DecisionTreeClassifier\n",
    "    dtc = DecisionTreeClassifier(random_state=21,max_depth=i)\n",
    "    print(tree(dtc))"
   ]
  },
  {
   "cell_type": "code",
   "execution_count": 34,
   "id": "f4ebd21e",
   "metadata": {},
   "outputs": [
    {
     "name": "stdout",
     "output_type": "stream",
     "text": [
      "(1.0, 0.6910569105691057)\n",
      "(0.9877800407331976, 0.6991869918699187)\n",
      "(0.9694501018329938, 0.7073170731707317)\n",
      "(0.955193482688391, 0.6910569105691057)\n",
      "(0.9368635437881874, 0.6829268292682927)\n",
      "(0.9226069246435845, 0.6747967479674797)\n",
      "(0.9185336048879837, 0.6747967479674797)\n",
      "(0.9185336048879837, 0.6747967479674797)\n",
      "(0.9063136456211812, 0.6829268292682927)\n",
      "(0.9022403258655805, 0.6829268292682927)\n",
      "(0.9022403258655805, 0.6829268292682927)\n",
      "(0.9022403258655805, 0.6829268292682927)\n",
      "(0.8961303462321792, 0.6910569105691057)\n",
      "(0.890020366598778, 0.6747967479674797)\n",
      "(0.8879837067209776, 0.6829268292682927)\n",
      "(0.8879837067209776, 0.6829268292682927)\n",
      "(0.8879837067209776, 0.6829268292682927)\n",
      "(0.8859470468431772, 0.6829268292682927)\n",
      "(0.8859470468431772, 0.6829268292682927)\n",
      "(0.879837067209776, 0.6910569105691057)\n",
      "(0.8778004073319755, 0.6910569105691057)\n",
      "(0.8778004073319755, 0.6910569105691057)\n",
      "(0.8778004073319755, 0.6991869918699187)\n",
      "(0.8757637474541752, 0.6991869918699187)\n",
      "(0.8716904276985743, 0.6991869918699187)\n",
      "(0.8716904276985743, 0.6991869918699187)\n",
      "(0.8716904276985743, 0.6991869918699187)\n",
      "(0.8655804480651731, 0.7073170731707317)\n",
      "(0.8655804480651731, 0.7073170731707317)\n",
      "(0.8635437881873728, 0.7154471544715447)\n",
      "(0.8635437881873728, 0.7154471544715447)\n",
      "(0.8635437881873728, 0.7154471544715447)\n",
      "(0.8615071283095723, 0.7154471544715447)\n",
      "(0.8574338085539714, 0.7154471544715447)\n",
      "(0.8574338085539714, 0.7154471544715447)\n",
      "(0.8574338085539714, 0.7154471544715447)\n",
      "(0.8553971486761711, 0.7073170731707317)\n",
      "(0.8533604887983707, 0.7154471544715447)\n"
     ]
    }
   ],
   "source": [
    "for i in range(2,40,1):\n",
    "    from sklearn.tree import DecisionTreeClassifier\n",
    "    dtc = DecisionTreeClassifier(random_state=21,min_samples_split=i)\n",
    "    print(tree(dtc))"
   ]
  },
  {
   "cell_type": "code",
   "execution_count": 35,
   "id": "1fdb881b",
   "metadata": {},
   "outputs": [
    {
     "name": "stdout",
     "output_type": "stream",
     "text": [
      "(0.9470468431771895, 0.6747967479674797)\n",
      "(0.9144602851323829, 0.6910569105691057)\n",
      "(0.8859470468431772, 0.6991869918699187)\n",
      "(0.8757637474541752, 0.7398373983739838)\n",
      "(0.8574338085539714, 0.6829268292682927)\n",
      "(0.8472505091649695, 0.7154471544715447)\n",
      "(0.8411405295315683, 0.7154471544715447)\n",
      "(0.8411405295315683, 0.7235772357723578)\n",
      "(0.8309572301425662, 0.7560975609756098)\n",
      "(0.8309572301425662, 0.7723577235772358)\n",
      "(0.8309572301425662, 0.7723577235772358)\n",
      "(0.8309572301425662, 0.7723577235772358)\n",
      "(0.8289205702647657, 0.7723577235772358)\n",
      "(0.8309572301425662, 0.7560975609756098)\n",
      "(0.8268839103869654, 0.7479674796747967)\n",
      "(0.8228105906313645, 0.7560975609756098)\n",
      "(0.814663951120163, 0.7073170731707317)\n",
      "(0.814663951120163, 0.7073170731707317)\n",
      "(0.814663951120163, 0.7073170731707317)\n",
      "(0.814663951120163, 0.6991869918699187)\n",
      "(0.8105906313645621, 0.6829268292682927)\n",
      "(0.8085539714867617, 0.7723577235772358)\n",
      "(0.8085539714867617, 0.7723577235772358)\n",
      "(0.8085539714867617, 0.7723577235772358)\n",
      "(0.8065173116089613, 0.8211382113821138)\n",
      "(0.8065173116089613, 0.8211382113821138)\n",
      "(0.8065173116089613, 0.8211382113821138)\n",
      "(0.8065173116089613, 0.8211382113821138)\n",
      "(0.8065173116089613, 0.8211382113821138)\n",
      "(0.8065173116089613, 0.8211382113821138)\n",
      "(0.8065173116089613, 0.8211382113821138)\n",
      "(0.8065173116089613, 0.8211382113821138)\n",
      "(0.8065173116089613, 0.8211382113821138)\n",
      "(0.8065173116089613, 0.8211382113821138)\n",
      "(0.8065173116089613, 0.8211382113821138)\n",
      "(0.8065173116089613, 0.8211382113821138)\n",
      "(0.8065173116089613, 0.8211382113821138)\n",
      "(0.8065173116089613, 0.8211382113821138)\n"
     ]
    }
   ],
   "source": [
    "for i in range(2,40,1):\n",
    "    from sklearn.tree import DecisionTreeClassifier\n",
    "    dtc = DecisionTreeClassifier(random_state=21,min_samples_leaf=i)\n",
    "    print(tree(dtc))"
   ]
  },
  {
   "cell_type": "markdown",
   "id": "9e4e2f5c",
   "metadata": {},
   "source": [
    "# Try AdaBoost"
   ]
  },
  {
   "cell_type": "code",
   "execution_count": 36,
   "id": "d658ff51",
   "metadata": {},
   "outputs": [
    {
     "data": {
      "text/plain": [
       "(0.9063136456211812, 0.7073170731707317)"
      ]
     },
     "execution_count": 36,
     "metadata": {},
     "output_type": "execute_result"
    }
   ],
   "source": [
    "from sklearn.ensemble import AdaBoostClassifier\n",
    "abc = AdaBoostClassifier(DecisionTreeClassifier(random_state=21,max_depth=2),n_estimators=30)\n",
    "tree(abc)"
   ]
  },
  {
   "cell_type": "code",
   "execution_count": 37,
   "id": "b8e2c3c8",
   "metadata": {},
   "outputs": [
    {
     "name": "stdout",
     "output_type": "stream",
     "text": [
      "(0.9063136456211812, 0.7073170731707317)\n",
      "(0.9063136456211812, 0.7073170731707317)\n",
      "(0.9063136456211812, 0.7073170731707317)\n",
      "(0.9063136456211812, 0.7073170731707317)\n",
      "(0.9063136456211812, 0.7073170731707317)\n",
      "(0.9063136456211812, 0.7073170731707317)\n",
      "(0.9063136456211812, 0.7073170731707317)\n",
      "(0.9063136456211812, 0.7073170731707317)\n",
      "(0.9063136456211812, 0.7073170731707317)\n",
      "(0.9063136456211812, 0.7073170731707317)\n",
      "(0.9063136456211812, 0.7073170731707317)\n",
      "(0.9063136456211812, 0.7073170731707317)\n",
      "(0.9063136456211812, 0.7073170731707317)\n",
      "(0.9063136456211812, 0.7073170731707317)\n",
      "(0.9063136456211812, 0.7073170731707317)\n",
      "(0.9063136456211812, 0.7073170731707317)\n",
      "(0.9063136456211812, 0.7073170731707317)\n",
      "(0.9063136456211812, 0.7073170731707317)\n",
      "(0.9063136456211812, 0.7073170731707317)\n",
      "(0.9063136456211812, 0.7073170731707317)\n",
      "(0.9063136456211812, 0.7073170731707317)\n",
      "(0.9063136456211812, 0.7073170731707317)\n",
      "(0.9063136456211812, 0.7073170731707317)\n",
      "(0.9063136456211812, 0.7073170731707317)\n",
      "(0.9063136456211812, 0.7073170731707317)\n",
      "(0.9063136456211812, 0.7073170731707317)\n",
      "(0.9063136456211812, 0.7073170731707317)\n",
      "(0.9063136456211812, 0.7073170731707317)\n",
      "(0.9063136456211812, 0.7073170731707317)\n",
      "(0.9063136456211812, 0.7073170731707317)\n",
      "(0.9063136456211812, 0.7073170731707317)\n",
      "(0.9063136456211812, 0.7073170731707317)\n",
      "(0.9063136456211812, 0.7073170731707317)\n",
      "(0.9063136456211812, 0.7073170731707317)\n",
      "(0.9063136456211812, 0.7073170731707317)\n",
      "(0.9063136456211812, 0.7073170731707317)\n",
      "(0.9063136456211812, 0.7073170731707317)\n",
      "(0.9063136456211812, 0.7073170731707317)\n",
      "(0.9063136456211812, 0.7073170731707317)\n",
      "(0.9063136456211812, 0.7073170731707317)\n",
      "(0.9063136456211812, 0.7073170731707317)\n",
      "(0.9063136456211812, 0.7073170731707317)\n",
      "(0.9063136456211812, 0.7073170731707317)\n",
      "(0.9063136456211812, 0.7073170731707317)\n",
      "(0.9063136456211812, 0.7073170731707317)\n",
      "(0.9063136456211812, 0.7073170731707317)\n",
      "(0.9063136456211812, 0.7073170731707317)\n",
      "(0.9063136456211812, 0.7073170731707317)\n"
     ]
    }
   ],
   "source": [
    "for i in range(2,50):\n",
    "    abc = AdaBoostClassifier(DecisionTreeClassifier(random_state=21,max_depth=2),n_estimators=30)\n",
    "    print(tree(abc))"
   ]
  },
  {
   "cell_type": "code",
   "execution_count": 38,
   "id": "ecfaaca3",
   "metadata": {},
   "outputs": [],
   "source": [
    "dtc = DecisionTreeClassifier(random_state=21,max_depth=2)\n",
    "model = dtc.fit(Xnew,Y)"
   ]
  },
  {
   "cell_type": "markdown",
   "id": "789d62ff",
   "metadata": {},
   "source": [
    "# make predictions using best model"
   ]
  },
  {
   "cell_type": "code",
   "execution_count": 39,
   "id": "832a32ba",
   "metadata": {},
   "outputs": [],
   "source": [
    "B = pd.read_csv(\"D:/Downloads/Projects/testing_set.csv\")"
   ]
  },
  {
   "cell_type": "code",
   "execution_count": 40,
   "id": "be248104",
   "metadata": {},
   "outputs": [
    {
     "data": {
      "text/html": [
       "<div>\n",
       "<style scoped>\n",
       "    .dataframe tbody tr th:only-of-type {\n",
       "        vertical-align: middle;\n",
       "    }\n",
       "\n",
       "    .dataframe tbody tr th {\n",
       "        vertical-align: top;\n",
       "    }\n",
       "\n",
       "    .dataframe thead th {\n",
       "        text-align: right;\n",
       "    }\n",
       "</style>\n",
       "<table border=\"1\" class=\"dataframe\">\n",
       "  <thead>\n",
       "    <tr style=\"text-align: right;\">\n",
       "      <th></th>\n",
       "      <th>Loan_ID</th>\n",
       "      <th>Gender</th>\n",
       "      <th>Married</th>\n",
       "      <th>Dependents</th>\n",
       "      <th>Education</th>\n",
       "      <th>Self_Employed</th>\n",
       "      <th>ApplicantIncome</th>\n",
       "      <th>CoapplicantIncome</th>\n",
       "      <th>LoanAmount</th>\n",
       "      <th>Loan_Amount_Term</th>\n",
       "      <th>Credit_History</th>\n",
       "      <th>Property_Area</th>\n",
       "    </tr>\n",
       "  </thead>\n",
       "  <tbody>\n",
       "    <tr>\n",
       "      <th>0</th>\n",
       "      <td>LP001015</td>\n",
       "      <td>Male</td>\n",
       "      <td>Yes</td>\n",
       "      <td>0</td>\n",
       "      <td>Graduate</td>\n",
       "      <td>No</td>\n",
       "      <td>5720</td>\n",
       "      <td>0</td>\n",
       "      <td>110.0</td>\n",
       "      <td>360.0</td>\n",
       "      <td>1.0</td>\n",
       "      <td>Urban</td>\n",
       "    </tr>\n",
       "    <tr>\n",
       "      <th>1</th>\n",
       "      <td>LP001022</td>\n",
       "      <td>Male</td>\n",
       "      <td>Yes</td>\n",
       "      <td>1</td>\n",
       "      <td>Graduate</td>\n",
       "      <td>No</td>\n",
       "      <td>3076</td>\n",
       "      <td>1500</td>\n",
       "      <td>126.0</td>\n",
       "      <td>360.0</td>\n",
       "      <td>1.0</td>\n",
       "      <td>Urban</td>\n",
       "    </tr>\n",
       "    <tr>\n",
       "      <th>2</th>\n",
       "      <td>LP001031</td>\n",
       "      <td>Male</td>\n",
       "      <td>Yes</td>\n",
       "      <td>2</td>\n",
       "      <td>Graduate</td>\n",
       "      <td>No</td>\n",
       "      <td>5000</td>\n",
       "      <td>1800</td>\n",
       "      <td>208.0</td>\n",
       "      <td>360.0</td>\n",
       "      <td>1.0</td>\n",
       "      <td>Urban</td>\n",
       "    </tr>\n",
       "    <tr>\n",
       "      <th>3</th>\n",
       "      <td>LP001035</td>\n",
       "      <td>Male</td>\n",
       "      <td>Yes</td>\n",
       "      <td>2</td>\n",
       "      <td>Graduate</td>\n",
       "      <td>No</td>\n",
       "      <td>2340</td>\n",
       "      <td>2546</td>\n",
       "      <td>100.0</td>\n",
       "      <td>360.0</td>\n",
       "      <td>NaN</td>\n",
       "      <td>Urban</td>\n",
       "    </tr>\n",
       "    <tr>\n",
       "      <th>4</th>\n",
       "      <td>LP001051</td>\n",
       "      <td>Male</td>\n",
       "      <td>No</td>\n",
       "      <td>0</td>\n",
       "      <td>Not Graduate</td>\n",
       "      <td>No</td>\n",
       "      <td>3276</td>\n",
       "      <td>0</td>\n",
       "      <td>78.0</td>\n",
       "      <td>360.0</td>\n",
       "      <td>1.0</td>\n",
       "      <td>Urban</td>\n",
       "    </tr>\n",
       "  </tbody>\n",
       "</table>\n",
       "</div>"
      ],
      "text/plain": [
       "    Loan_ID Gender Married Dependents     Education Self_Employed  \\\n",
       "0  LP001015   Male     Yes          0      Graduate            No   \n",
       "1  LP001022   Male     Yes          1      Graduate            No   \n",
       "2  LP001031   Male     Yes          2      Graduate            No   \n",
       "3  LP001035   Male     Yes          2      Graduate            No   \n",
       "4  LP001051   Male      No          0  Not Graduate            No   \n",
       "\n",
       "   ApplicantIncome  CoapplicantIncome  LoanAmount  Loan_Amount_Term  \\\n",
       "0             5720                  0       110.0             360.0   \n",
       "1             3076               1500       126.0             360.0   \n",
       "2             5000               1800       208.0             360.0   \n",
       "3             2340               2546       100.0             360.0   \n",
       "4             3276                  0        78.0             360.0   \n",
       "\n",
       "   Credit_History Property_Area  \n",
       "0             1.0         Urban  \n",
       "1             1.0         Urban  \n",
       "2             1.0         Urban  \n",
       "3             NaN         Urban  \n",
       "4             1.0         Urban  "
      ]
     },
     "execution_count": 40,
     "metadata": {},
     "output_type": "execute_result"
    }
   ],
   "source": [
    "B.head()"
   ]
  },
  {
   "cell_type": "code",
   "execution_count": 41,
   "id": "8011265d",
   "metadata": {},
   "outputs": [],
   "source": [
    "X = B.drop(labels=[\"Loan_ID\"],axis=1)\n",
    "replacer(X)\n",
    "Xnew = data_prep(X)\n",
    "pred = model.predict(Xnew)"
   ]
  },
  {
   "cell_type": "code",
   "execution_count": 42,
   "id": "7ba8fc75",
   "metadata": {},
   "outputs": [],
   "source": [
    "B['Loan_Status_pred'] = pred"
   ]
  },
  {
   "cell_type": "code",
   "execution_count": 43,
   "id": "67986372",
   "metadata": {},
   "outputs": [
    {
     "data": {
      "text/html": [
       "<div>\n",
       "<style scoped>\n",
       "    .dataframe tbody tr th:only-of-type {\n",
       "        vertical-align: middle;\n",
       "    }\n",
       "\n",
       "    .dataframe tbody tr th {\n",
       "        vertical-align: top;\n",
       "    }\n",
       "\n",
       "    .dataframe thead th {\n",
       "        text-align: right;\n",
       "    }\n",
       "</style>\n",
       "<table border=\"1\" class=\"dataframe\">\n",
       "  <thead>\n",
       "    <tr style=\"text-align: right;\">\n",
       "      <th></th>\n",
       "      <th>Loan_ID</th>\n",
       "      <th>Gender</th>\n",
       "      <th>Married</th>\n",
       "      <th>Dependents</th>\n",
       "      <th>Education</th>\n",
       "      <th>Self_Employed</th>\n",
       "      <th>ApplicantIncome</th>\n",
       "      <th>CoapplicantIncome</th>\n",
       "      <th>LoanAmount</th>\n",
       "      <th>Loan_Amount_Term</th>\n",
       "      <th>Credit_History</th>\n",
       "      <th>Property_Area</th>\n",
       "      <th>Loan_Status_pred</th>\n",
       "    </tr>\n",
       "  </thead>\n",
       "  <tbody>\n",
       "    <tr>\n",
       "      <th>0</th>\n",
       "      <td>LP001015</td>\n",
       "      <td>Male</td>\n",
       "      <td>Yes</td>\n",
       "      <td>0</td>\n",
       "      <td>Graduate</td>\n",
       "      <td>No</td>\n",
       "      <td>5720</td>\n",
       "      <td>0</td>\n",
       "      <td>110.0</td>\n",
       "      <td>360.0</td>\n",
       "      <td>1.0</td>\n",
       "      <td>Urban</td>\n",
       "      <td>Y</td>\n",
       "    </tr>\n",
       "    <tr>\n",
       "      <th>1</th>\n",
       "      <td>LP001022</td>\n",
       "      <td>Male</td>\n",
       "      <td>Yes</td>\n",
       "      <td>1</td>\n",
       "      <td>Graduate</td>\n",
       "      <td>No</td>\n",
       "      <td>3076</td>\n",
       "      <td>1500</td>\n",
       "      <td>126.0</td>\n",
       "      <td>360.0</td>\n",
       "      <td>1.0</td>\n",
       "      <td>Urban</td>\n",
       "      <td>Y</td>\n",
       "    </tr>\n",
       "    <tr>\n",
       "      <th>2</th>\n",
       "      <td>LP001031</td>\n",
       "      <td>Male</td>\n",
       "      <td>Yes</td>\n",
       "      <td>2</td>\n",
       "      <td>Graduate</td>\n",
       "      <td>No</td>\n",
       "      <td>5000</td>\n",
       "      <td>1800</td>\n",
       "      <td>208.0</td>\n",
       "      <td>360.0</td>\n",
       "      <td>1.0</td>\n",
       "      <td>Urban</td>\n",
       "      <td>Y</td>\n",
       "    </tr>\n",
       "    <tr>\n",
       "      <th>3</th>\n",
       "      <td>LP001035</td>\n",
       "      <td>Male</td>\n",
       "      <td>Yes</td>\n",
       "      <td>2</td>\n",
       "      <td>Graduate</td>\n",
       "      <td>No</td>\n",
       "      <td>2340</td>\n",
       "      <td>2546</td>\n",
       "      <td>100.0</td>\n",
       "      <td>360.0</td>\n",
       "      <td>NaN</td>\n",
       "      <td>Urban</td>\n",
       "      <td>Y</td>\n",
       "    </tr>\n",
       "    <tr>\n",
       "      <th>4</th>\n",
       "      <td>LP001051</td>\n",
       "      <td>Male</td>\n",
       "      <td>No</td>\n",
       "      <td>0</td>\n",
       "      <td>Not Graduate</td>\n",
       "      <td>No</td>\n",
       "      <td>3276</td>\n",
       "      <td>0</td>\n",
       "      <td>78.0</td>\n",
       "      <td>360.0</td>\n",
       "      <td>1.0</td>\n",
       "      <td>Urban</td>\n",
       "      <td>Y</td>\n",
       "    </tr>\n",
       "  </tbody>\n",
       "</table>\n",
       "</div>"
      ],
      "text/plain": [
       "    Loan_ID Gender Married Dependents     Education Self_Employed  \\\n",
       "0  LP001015   Male     Yes          0      Graduate            No   \n",
       "1  LP001022   Male     Yes          1      Graduate            No   \n",
       "2  LP001031   Male     Yes          2      Graduate            No   \n",
       "3  LP001035   Male     Yes          2      Graduate            No   \n",
       "4  LP001051   Male      No          0  Not Graduate            No   \n",
       "\n",
       "   ApplicantIncome  CoapplicantIncome  LoanAmount  Loan_Amount_Term  \\\n",
       "0             5720                  0       110.0             360.0   \n",
       "1             3076               1500       126.0             360.0   \n",
       "2             5000               1800       208.0             360.0   \n",
       "3             2340               2546       100.0             360.0   \n",
       "4             3276                  0        78.0             360.0   \n",
       "\n",
       "   Credit_History Property_Area Loan_Status_pred  \n",
       "0             1.0         Urban                Y  \n",
       "1             1.0         Urban                Y  \n",
       "2             1.0         Urban                Y  \n",
       "3             NaN         Urban                Y  \n",
       "4             1.0         Urban                Y  "
      ]
     },
     "execution_count": 43,
     "metadata": {},
     "output_type": "execute_result"
    }
   ],
   "source": [
    "B.head()"
   ]
  },
  {
   "cell_type": "code",
   "execution_count": 44,
   "id": "413f44b8",
   "metadata": {},
   "outputs": [
    {
     "data": {
      "text/html": [
       "<div>\n",
       "<style scoped>\n",
       "    .dataframe tbody tr th:only-of-type {\n",
       "        vertical-align: middle;\n",
       "    }\n",
       "\n",
       "    .dataframe tbody tr th {\n",
       "        vertical-align: top;\n",
       "    }\n",
       "\n",
       "    .dataframe thead th {\n",
       "        text-align: right;\n",
       "    }\n",
       "</style>\n",
       "<table border=\"1\" class=\"dataframe\">\n",
       "  <thead>\n",
       "    <tr style=\"text-align: right;\">\n",
       "      <th></th>\n",
       "      <th>0</th>\n",
       "      <th>1</th>\n",
       "    </tr>\n",
       "  </thead>\n",
       "  <tbody>\n",
       "    <tr>\n",
       "      <th>0</th>\n",
       "      <td>ApplicantIncome</td>\n",
       "      <td>0.0</td>\n",
       "    </tr>\n",
       "    <tr>\n",
       "      <th>1</th>\n",
       "      <td>CoapplicantIncome</td>\n",
       "      <td>0.042743</td>\n",
       "    </tr>\n",
       "    <tr>\n",
       "      <th>2</th>\n",
       "      <td>LoanAmount</td>\n",
       "      <td>0.020849</td>\n",
       "    </tr>\n",
       "    <tr>\n",
       "      <th>3</th>\n",
       "      <td>Loan_Amount_Term</td>\n",
       "      <td>0.0</td>\n",
       "    </tr>\n",
       "    <tr>\n",
       "      <th>4</th>\n",
       "      <td>Credit_History</td>\n",
       "      <td>0.936407</td>\n",
       "    </tr>\n",
       "    <tr>\n",
       "      <th>5</th>\n",
       "      <td>Gender_Female</td>\n",
       "      <td>0.0</td>\n",
       "    </tr>\n",
       "    <tr>\n",
       "      <th>6</th>\n",
       "      <td>Gender_Male</td>\n",
       "      <td>0.0</td>\n",
       "    </tr>\n",
       "    <tr>\n",
       "      <th>7</th>\n",
       "      <td>Married_No</td>\n",
       "      <td>0.0</td>\n",
       "    </tr>\n",
       "    <tr>\n",
       "      <th>8</th>\n",
       "      <td>Married_Yes</td>\n",
       "      <td>0.0</td>\n",
       "    </tr>\n",
       "    <tr>\n",
       "      <th>9</th>\n",
       "      <td>Dependents_0</td>\n",
       "      <td>0.0</td>\n",
       "    </tr>\n",
       "    <tr>\n",
       "      <th>10</th>\n",
       "      <td>Dependents_1</td>\n",
       "      <td>0.0</td>\n",
       "    </tr>\n",
       "    <tr>\n",
       "      <th>11</th>\n",
       "      <td>Dependents_2</td>\n",
       "      <td>0.0</td>\n",
       "    </tr>\n",
       "    <tr>\n",
       "      <th>12</th>\n",
       "      <td>Dependents_3+</td>\n",
       "      <td>0.0</td>\n",
       "    </tr>\n",
       "    <tr>\n",
       "      <th>13</th>\n",
       "      <td>Education_Graduate</td>\n",
       "      <td>0.0</td>\n",
       "    </tr>\n",
       "    <tr>\n",
       "      <th>14</th>\n",
       "      <td>Education_Not Graduate</td>\n",
       "      <td>0.0</td>\n",
       "    </tr>\n",
       "    <tr>\n",
       "      <th>15</th>\n",
       "      <td>Self_Employed_No</td>\n",
       "      <td>0.0</td>\n",
       "    </tr>\n",
       "    <tr>\n",
       "      <th>16</th>\n",
       "      <td>Self_Employed_Yes</td>\n",
       "      <td>0.0</td>\n",
       "    </tr>\n",
       "    <tr>\n",
       "      <th>17</th>\n",
       "      <td>Property_Area_Rural</td>\n",
       "      <td>0.0</td>\n",
       "    </tr>\n",
       "    <tr>\n",
       "      <th>18</th>\n",
       "      <td>Property_Area_Semiurban</td>\n",
       "      <td>0.0</td>\n",
       "    </tr>\n",
       "    <tr>\n",
       "      <th>19</th>\n",
       "      <td>Property_Area_Urban</td>\n",
       "      <td>0.0</td>\n",
       "    </tr>\n",
       "  </tbody>\n",
       "</table>\n",
       "</div>"
      ],
      "text/plain": [
       "                          0         1\n",
       "0           ApplicantIncome       0.0\n",
       "1         CoapplicantIncome  0.042743\n",
       "2                LoanAmount  0.020849\n",
       "3          Loan_Amount_Term       0.0\n",
       "4            Credit_History  0.936407\n",
       "5             Gender_Female       0.0\n",
       "6               Gender_Male       0.0\n",
       "7                Married_No       0.0\n",
       "8               Married_Yes       0.0\n",
       "9              Dependents_0       0.0\n",
       "10             Dependents_1       0.0\n",
       "11             Dependents_2       0.0\n",
       "12            Dependents_3+       0.0\n",
       "13       Education_Graduate       0.0\n",
       "14   Education_Not Graduate       0.0\n",
       "15         Self_Employed_No       0.0\n",
       "16        Self_Employed_Yes       0.0\n",
       "17      Property_Area_Rural       0.0\n",
       "18  Property_Area_Semiurban       0.0\n",
       "19      Property_Area_Urban       0.0"
      ]
     },
     "execution_count": 44,
     "metadata": {},
     "output_type": "execute_result"
    }
   ],
   "source": [
    "pd.DataFrame([Xnew.columns,dtc.feature_importances_]).T"
   ]
  },
  {
   "cell_type": "markdown",
   "id": "ca0fbb11",
   "metadata": {},
   "source": [
    "# identify customer segments"
   ]
  },
  {
   "cell_type": "code",
   "execution_count": 45,
   "id": "2e53e105",
   "metadata": {},
   "outputs": [],
   "source": [
    "X = A[[\"Credit_History\",\"LoanAmount\",\"CoapplicantIncome\"]]"
   ]
  },
  {
   "cell_type": "code",
   "execution_count": 46,
   "id": "2ecbacbd",
   "metadata": {},
   "outputs": [],
   "source": [
    "from sklearn.preprocessing import StandardScaler\n",
    "ss = StandardScaler()\n",
    "Xnew = pd.DataFrame(ss.fit_transform(X),columns=[\"Credit_History\",\"LoanAmount\",\"CoapplicantIncome\"])"
   ]
  },
  {
   "cell_type": "code",
   "execution_count": 47,
   "id": "549283f9",
   "metadata": {},
   "outputs": [],
   "source": [
    "from sklearn.cluster import KMeans\n",
    "km = KMeans(n_clusters = 2)\n",
    "model = km.fit(Xnew)"
   ]
  },
  {
   "cell_type": "code",
   "execution_count": 48,
   "id": "65ac138d",
   "metadata": {},
   "outputs": [],
   "source": [
    "X['Cluster'] = model.labels_"
   ]
  },
  {
   "cell_type": "code",
   "execution_count": 49,
   "id": "e9f4a89d",
   "metadata": {},
   "outputs": [],
   "source": [
    "q = []\n",
    "for i in X.Credit_History:\n",
    "    if(i < 0.5):\n",
    "        q.append(0)\n",
    "    else:\n",
    "        q.append(1)"
   ]
  },
  {
   "cell_type": "code",
   "execution_count": 50,
   "id": "480103e8",
   "metadata": {},
   "outputs": [],
   "source": [
    "X.Credit_History = q"
   ]
  },
  {
   "cell_type": "code",
   "execution_count": 51,
   "id": "0e72e660",
   "metadata": {},
   "outputs": [
    {
     "data": {
      "text/plain": [
       "<matplotlib.collections.PathCollection at 0x1aba9eaa310>"
      ]
     },
     "execution_count": 51,
     "metadata": {},
     "output_type": "execute_result"
    },
    {
     "data": {
      "image/png": "[encoded data removed]",
      "text/plain": [
       "<Figure size 432x288 with 1 Axes>"
      ]
     },
     "metadata": {
      "needs_background": "light"
     },
     "output_type": "display_data"
    }
   ],
   "source": [
    "import matplotlib.pyplot as plt\n",
    "plt.scatter(X.LoanAmount,X.CoapplicantIncome,c=q)"
   ]
  },
  {
   "cell_type": "code",
   "execution_count": 52,
   "id": "0fa68de1",
   "metadata": {},
   "outputs": [],
   "source": [
    "from sklearn.preprocessing import LabelEncoder\n",
    "le = LabelEncoder()\n",
    "w = le.fit_transform(A['Loan_Status'])"
   ]
  },
  {
   "cell_type": "code",
   "execution_count": 53,
   "id": "91554028",
   "metadata": {},
   "outputs": [
    {
     "data": {
      "text/plain": [
       "<matplotlib.collections.PathCollection at 0x1aba9f954f0>"
      ]
     },
     "execution_count": 53,
     "metadata": {},
     "output_type": "execute_result"
    },
    {
     "data": {
      "image/png": "[encoded data removed]",
      "text/plain": [
       "<Figure size 432x288 with 1 Axes>"
      ]
     },
     "metadata": {
      "needs_background": "light"
     },
     "output_type": "display_data"
    }
   ],
   "source": [
    "plt.scatter(X.LoanAmount,X.CoapplicantIncome,c=w)"
   ]
  },
  {
   "cell_type": "code",
   "execution_count": 54,
   "id": "9bb6266c",
   "metadata": {},
   "outputs": [
    {
     "data": {
      "text/plain": [
       "<matplotlib.collections.PathCollection at 0x1aba9ff4ac0>"
      ]
     },
     "execution_count": 54,
     "metadata": {},
     "output_type": "execute_result"
    },
    {
     "data": {
      "image/png": "[encoded data removed]",
      "text/plain": [
       "<Figure size 432x288 with 1 Axes>"
      ]
     },
     "metadata": {
      "needs_background": "light"
     },
     "output_type": "display_data"
    }
   ],
   "source": [
    "plt.scatter(X.LoanAmount,X.CoapplicantIncome,c=X.Cluster)"
   ]
  },
  {
   "cell_type": "code",
   "execution_count": 55,
   "id": "749a614e",
   "metadata": {},
   "outputs": [
    {
     "data": {
      "text/plain": [
       "<matplotlib.collections.PathCollection at 0x1abaa0c3310>"
      ]
     },
     "execution_count": 55,
     "metadata": {},
     "output_type": "execute_result"
    },
    {
     "data": {
      "image/png": "[encoded data removed]",
      "text/plain": [
       "<Figure size 1440x288 with 3 Axes>"
      ]
     },
     "metadata": {
      "needs_background": "light"
     },
     "output_type": "display_data"
    }
   ],
   "source": [
    "plt.figure(figsize=(20,4))\n",
    "plt.subplot(1,3,1)\n",
    "plt.scatter(X.LoanAmount,X.CoapplicantIncome,c=q)\n",
    "plt.subplot(1,3,2)\n",
    "plt.scatter(X.LoanAmount,X.CoapplicantIncome,c=w)\n",
    "plt.subplot(1,3,3)\n",
    "plt.scatter(X.LoanAmount,X.CoapplicantIncome,c=X.Cluster)"
   ]
  },
  {
   "cell_type": "markdown",
   "id": "1f01f603",
   "metadata": {},
   "source": [
    "# If customer is not eligible fot the input required amount and duration:\n",
    "    a) What can be amount for the given duration (regression)"
   ]
  },
  {
   "cell_type": "markdown",
   "id": "bdb2da71",
   "metadata": {},
   "source": [
    "# prepare Training Data"
   ]
  },
  {
   "cell_type": "code",
   "execution_count": 56,
   "id": "8cdbee95",
   "metadata": {},
   "outputs": [],
   "source": [
    "P1 = A[A.Loan_Status == \"Y\"]"
   ]
  },
  {
   "cell_type": "code",
   "execution_count": 57,
   "id": "58a628c7",
   "metadata": {},
   "outputs": [],
   "source": [
    "P2 = B[B.Loan_Status_pred ==\"Y\"]"
   ]
  },
  {
   "cell_type": "code",
   "execution_count": 58,
   "id": "fd35656d",
   "metadata": {},
   "outputs": [],
   "source": [
    "P2 = P2.rename({\"Loan_Status_pred\":\"Loan_Status\"},axis=1)"
   ]
  },
  {
   "cell_type": "code",
   "execution_count": 59,
   "id": "ad8fe790",
   "metadata": {},
   "outputs": [],
   "source": [
    "trd = pd.concat([P1,P2])"
   ]
  },
  {
   "cell_type": "markdown",
   "id": "f9f9fb6a",
   "metadata": {},
   "source": [
    "# Missing Data"
   ]
  },
  {
   "cell_type": "code",
   "execution_count": 60,
   "id": "22a95f1e",
   "metadata": {},
   "outputs": [],
   "source": [
    "replacer(trd)"
   ]
  },
  {
   "cell_type": "code",
   "execution_count": 61,
   "id": "14251f2c",
   "metadata": {},
   "outputs": [
    {
     "data": {
      "text/plain": [
       "Loan_ID              0\n",
       "Gender               0\n",
       "Married              0\n",
       "Dependents           0\n",
       "Education            0\n",
       "Self_Employed        0\n",
       "ApplicantIncome      0\n",
       "CoapplicantIncome    0\n",
       "LoanAmount           0\n",
       "Loan_Amount_Term     0\n",
       "Credit_History       0\n",
       "Property_Area        0\n",
       "Loan_Status          0\n",
       "dtype: int64"
      ]
     },
     "execution_count": 61,
     "metadata": {},
     "output_type": "execute_result"
    }
   ],
   "source": [
    "trd.isna().sum()"
   ]
  },
  {
   "cell_type": "code",
   "execution_count": 62,
   "id": "fbfc7bca",
   "metadata": {},
   "outputs": [],
   "source": [
    "cat = []\n",
    "con = []\n",
    "for i in trd.columns:\n",
    "    if(trd[i].dtypes ==\"object\"):\n",
    "        cat.append(i)\n",
    "    else:\n",
    "        con.append(i)"
   ]
  },
  {
   "cell_type": "code",
   "execution_count": 63,
   "id": "1be01e15",
   "metadata": {},
   "outputs": [
    {
     "data": {
      "text/plain": [
       "['ApplicantIncome',\n",
       " 'CoapplicantIncome',\n",
       " 'LoanAmount',\n",
       " 'Loan_Amount_Term',\n",
       " 'Credit_History']"
      ]
     },
     "execution_count": 63,
     "metadata": {},
     "output_type": "execute_result"
    }
   ],
   "source": [
    "con"
   ]
  },
  {
   "cell_type": "code",
   "execution_count": 64,
   "id": "ab5861f1",
   "metadata": {},
   "outputs": [],
   "source": [
    "cat.remove(\"Loan_ID\")\n",
    "con.remove(\"LoanAmount\")\n",
    "cat.remove(\"Loan_Status\")"
   ]
  },
  {
   "cell_type": "markdown",
   "id": "b0da39e7",
   "metadata": {},
   "source": [
    "# Define X and Y"
   ]
  },
  {
   "cell_type": "code",
   "execution_count": 65,
   "id": "4d0e209e",
   "metadata": {},
   "outputs": [],
   "source": [
    "Y = trd[[\"LoanAmount\"]]\n",
    "X = trd.drop(labels=[\"LoanAmount\",\"Loan_ID\",\"Loan_Status\"],axis=1)"
   ]
  },
  {
   "cell_type": "code",
   "execution_count": 66,
   "id": "51184387",
   "metadata": {},
   "outputs": [],
   "source": [
    "from sklearn.preprocessing import StandardScaler\n",
    "ss1 = StandardScaler()\n",
    "X1 = pd.DataFrame(ss1.fit_transform(X[con]),columns=con)\n",
    "X2 = pd.get_dummies(X[cat])\n",
    "X2.index = range(0,725)\n",
    "Xnew = X1.join(X2)"
   ]
  },
  {
   "cell_type": "code",
   "execution_count": 67,
   "id": "052076aa",
   "metadata": {},
   "outputs": [
    {
     "data": {
      "text/html": [
       "<div>\n",
       "<style scoped>\n",
       "    .dataframe tbody tr th:only-of-type {\n",
       "        vertical-align: middle;\n",
       "    }\n",
       "\n",
       "    .dataframe tbody tr th {\n",
       "        vertical-align: top;\n",
       "    }\n",
       "\n",
       "    .dataframe thead th {\n",
       "        text-align: right;\n",
       "    }\n",
       "</style>\n",
       "<table border=\"1\" class=\"dataframe\">\n",
       "  <thead>\n",
       "    <tr style=\"text-align: right;\">\n",
       "      <th></th>\n",
       "      <th>ApplicantIncome</th>\n",
       "      <th>CoapplicantIncome</th>\n",
       "      <th>Loan_Amount_Term</th>\n",
       "      <th>Credit_History</th>\n",
       "      <th>Gender_Female</th>\n",
       "      <th>Gender_Male</th>\n",
       "      <th>Married_No</th>\n",
       "      <th>Married_Yes</th>\n",
       "      <th>Dependents_0</th>\n",
       "      <th>Dependents_1</th>\n",
       "      <th>Dependents_2</th>\n",
       "      <th>Dependents_3+</th>\n",
       "      <th>Education_Graduate</th>\n",
       "      <th>Education_Not Graduate</th>\n",
       "      <th>Self_Employed_No</th>\n",
       "      <th>Self_Employed_Yes</th>\n",
       "      <th>Property_Area_Rural</th>\n",
       "      <th>Property_Area_Semiurban</th>\n",
       "      <th>Property_Area_Urban</th>\n",
       "    </tr>\n",
       "  </thead>\n",
       "  <tbody>\n",
       "    <tr>\n",
       "      <th>0</th>\n",
       "      <td>0.115076</td>\n",
       "      <td>-0.812679</td>\n",
       "      <td>0.299641</td>\n",
       "      <td>0.178911</td>\n",
       "      <td>0</td>\n",
       "      <td>1</td>\n",
       "      <td>1</td>\n",
       "      <td>0</td>\n",
       "      <td>1</td>\n",
       "      <td>0</td>\n",
       "      <td>0</td>\n",
       "      <td>0</td>\n",
       "      <td>1</td>\n",
       "      <td>0</td>\n",
       "      <td>1</td>\n",
       "      <td>0</td>\n",
       "      <td>0</td>\n",
       "      <td>0</td>\n",
       "      <td>1</td>\n",
       "    </tr>\n",
       "    <tr>\n",
       "      <th>1</th>\n",
       "      <td>-0.398192</td>\n",
       "      <td>-0.812679</td>\n",
       "      <td>0.299641</td>\n",
       "      <td>0.178911</td>\n",
       "      <td>0</td>\n",
       "      <td>1</td>\n",
       "      <td>0</td>\n",
       "      <td>1</td>\n",
       "      <td>1</td>\n",
       "      <td>0</td>\n",
       "      <td>0</td>\n",
       "      <td>0</td>\n",
       "      <td>1</td>\n",
       "      <td>0</td>\n",
       "      <td>0</td>\n",
       "      <td>1</td>\n",
       "      <td>0</td>\n",
       "      <td>0</td>\n",
       "      <td>1</td>\n",
       "    </tr>\n",
       "    <tr>\n",
       "      <th>2</th>\n",
       "      <td>-0.473317</td>\n",
       "      <td>0.527410</td>\n",
       "      <td>0.299641</td>\n",
       "      <td>0.178911</td>\n",
       "      <td>0</td>\n",
       "      <td>1</td>\n",
       "      <td>0</td>\n",
       "      <td>1</td>\n",
       "      <td>1</td>\n",
       "      <td>0</td>\n",
       "      <td>0</td>\n",
       "      <td>0</td>\n",
       "      <td>0</td>\n",
       "      <td>1</td>\n",
       "      <td>1</td>\n",
       "      <td>0</td>\n",
       "      <td>0</td>\n",
       "      <td>0</td>\n",
       "      <td>1</td>\n",
       "    </tr>\n",
       "    <tr>\n",
       "      <th>3</th>\n",
       "      <td>0.142280</td>\n",
       "      <td>-0.812679</td>\n",
       "      <td>0.299641</td>\n",
       "      <td>0.178911</td>\n",
       "      <td>0</td>\n",
       "      <td>1</td>\n",
       "      <td>1</td>\n",
       "      <td>0</td>\n",
       "      <td>1</td>\n",
       "      <td>0</td>\n",
       "      <td>0</td>\n",
       "      <td>0</td>\n",
       "      <td>1</td>\n",
       "      <td>0</td>\n",
       "      <td>1</td>\n",
       "      <td>0</td>\n",
       "      <td>0</td>\n",
       "      <td>0</td>\n",
       "      <td>1</td>\n",
       "    </tr>\n",
       "    <tr>\n",
       "      <th>4</th>\n",
       "      <td>0.037248</td>\n",
       "      <td>1.571975</td>\n",
       "      <td>0.299641</td>\n",
       "      <td>0.178911</td>\n",
       "      <td>0</td>\n",
       "      <td>1</td>\n",
       "      <td>0</td>\n",
       "      <td>1</td>\n",
       "      <td>0</td>\n",
       "      <td>0</td>\n",
       "      <td>1</td>\n",
       "      <td>0</td>\n",
       "      <td>1</td>\n",
       "      <td>0</td>\n",
       "      <td>0</td>\n",
       "      <td>1</td>\n",
       "      <td>0</td>\n",
       "      <td>0</td>\n",
       "      <td>1</td>\n",
       "    </tr>\n",
       "  </tbody>\n",
       "</table>\n",
       "</div>"
      ],
      "text/plain": [
       "   ApplicantIncome  CoapplicantIncome  Loan_Amount_Term  Credit_History  \\\n",
       "0         0.115076          -0.812679          0.299641        0.178911   \n",
       "1        -0.398192          -0.812679          0.299641        0.178911   \n",
       "2        -0.473317           0.527410          0.299641        0.178911   \n",
       "3         0.142280          -0.812679          0.299641        0.178911   \n",
       "4         0.037248           1.571975          0.299641        0.178911   \n",
       "\n",
       "   Gender_Female  Gender_Male  Married_No  Married_Yes  Dependents_0  \\\n",
       "0              0            1           1            0             1   \n",
       "1              0            1           0            1             1   \n",
       "2              0            1           0            1             1   \n",
       "3              0            1           1            0             1   \n",
       "4              0            1           0            1             0   \n",
       "\n",
       "   Dependents_1  Dependents_2  Dependents_3+  Education_Graduate  \\\n",
       "0             0             0              0                   1   \n",
       "1             0             0              0                   1   \n",
       "2             0             0              0                   0   \n",
       "3             0             0              0                   1   \n",
       "4             0             1              0                   1   \n",
       "\n",
       "   Education_Not Graduate  Self_Employed_No  Self_Employed_Yes  \\\n",
       "0                       0                 1                  0   \n",
       "1                       0                 0                  1   \n",
       "2                       1                 1                  0   \n",
       "3                       0                 1                  0   \n",
       "4                       0                 0                  1   \n",
       "\n",
       "   Property_Area_Rural  Property_Area_Semiurban  Property_Area_Urban  \n",
       "0                    0                        0                    1  \n",
       "1                    0                        0                    1  \n",
       "2                    0                        0                    1  \n",
       "3                    0                        0                    1  \n",
       "4                    0                        0                    1  "
      ]
     },
     "execution_count": 67,
     "metadata": {},
     "output_type": "execute_result"
    }
   ],
   "source": [
    "Xnew.head()"
   ]
  },
  {
   "cell_type": "code",
   "execution_count": 68,
   "id": "8c9daae8",
   "metadata": {},
   "outputs": [],
   "source": [
    "from sklearn.model_selection import train_test_split\n",
    "xtrain,xtest,ytrain,ytest=train_test_split(Xnew,Y,test_size=0.2,random_state=21)"
   ]
  },
  {
   "cell_type": "code",
   "execution_count": 69,
   "id": "b753b9f6",
   "metadata": {},
   "outputs": [
    {
     "data": {
      "text/html": [
       "<div>\n",
       "<style scoped>\n",
       "    .dataframe tbody tr th:only-of-type {\n",
       "        vertical-align: middle;\n",
       "    }\n",
       "\n",
       "    .dataframe tbody tr th {\n",
       "        vertical-align: top;\n",
       "    }\n",
       "\n",
       "    .dataframe thead th {\n",
       "        text-align: right;\n",
       "    }\n",
       "</style>\n",
       "<table border=\"1\" class=\"dataframe\">\n",
       "  <thead>\n",
       "    <tr style=\"text-align: right;\">\n",
       "      <th></th>\n",
       "      <th>LoanAmount</th>\n",
       "    </tr>\n",
       "  </thead>\n",
       "  <tbody>\n",
       "    <tr>\n",
       "      <th>ApplicantIncome</th>\n",
       "      <td>0.579186</td>\n",
       "    </tr>\n",
       "    <tr>\n",
       "      <th>CoapplicantIncome</th>\n",
       "      <td>0.142011</td>\n",
       "    </tr>\n",
       "    <tr>\n",
       "      <th>LoanAmount</th>\n",
       "      <td>1.000000</td>\n",
       "    </tr>\n",
       "    <tr>\n",
       "      <th>Loan_Amount_Term</th>\n",
       "      <td>0.059974</td>\n",
       "    </tr>\n",
       "    <tr>\n",
       "      <th>Credit_History</th>\n",
       "      <td>-0.095110</td>\n",
       "    </tr>\n",
       "  </tbody>\n",
       "</table>\n",
       "</div>"
      ],
      "text/plain": [
       "                   LoanAmount\n",
       "ApplicantIncome      0.579186\n",
       "CoapplicantIncome    0.142011\n",
       "LoanAmount           1.000000\n",
       "Loan_Amount_Term     0.059974\n",
       "Credit_History      -0.095110"
      ]
     },
     "execution_count": 69,
     "metadata": {},
     "output_type": "execute_result"
    }
   ],
   "source": [
    "trd.corr()[[\"LoanAmount\"]]"
   ]
  },
  {
   "cell_type": "code",
   "execution_count": 71,
   "id": "aa97c96e",
   "metadata": {},
   "outputs": [
    {
     "name": "stdout",
     "output_type": "stream",
     "text": [
      "-----------------------\n",
      "LoanAmount vs  Gender\n",
      "0.003\n",
      "-----------------------\n",
      "LoanAmount vs  Married\n",
      "0.0\n",
      "-----------------------\n",
      "LoanAmount vs  Dependents\n",
      "0.0\n",
      "-----------------------\n",
      "LoanAmount vs  Education\n",
      "0.0\n",
      "-----------------------\n",
      "LoanAmount vs  Self_Employed\n",
      "0.0\n",
      "-----------------------\n",
      "LoanAmount vs  Property_Area\n",
      "0.808\n"
     ]
    }
   ],
   "source": [
    "for i in X.columns:\n",
    "    if(X[i].dtypes ==\"object\"):\n",
    "        print(\"-----------------------\")\n",
    "        print(\"LoanAmount vs \",i)\n",
    "        print(ANOVA(trd,i,\"LoanAmount\"))"
   ]
  },
  {
   "cell_type": "markdown",
   "id": "d6026733",
   "metadata": {},
   "source": [
    "# create ML Model"
   ]
  },
  {
   "cell_type": "code",
   "execution_count": 72,
   "id": "60f92718",
   "metadata": {},
   "outputs": [],
   "source": [
    "from sklearn.linear_model import LinearRegression\n",
    "lm = LinearRegression()\n",
    "model = lm.fit(xtrain,ytrain)"
   ]
  },
  {
   "cell_type": "code",
   "execution_count": 73,
   "id": "81878047",
   "metadata": {},
   "outputs": [],
   "source": [
    "from preprocessing_6PM import find_overfit_con"
   ]
  },
  {
   "cell_type": "code",
   "execution_count": 74,
   "id": "8a78ef02",
   "metadata": {},
   "outputs": [
    {
     "name": "stdout",
     "output_type": "stream",
     "text": [
      "training error:  35.979071650096074\n",
      "testing error:  38.317567530523455\n"
     ]
    }
   ],
   "source": [
    "find_overfit_con(lm,xtrain,xtest,ytrain,ytest)"
   ]
  },
  {
   "cell_type": "markdown",
   "id": "00a88681",
   "metadata": {},
   "source": [
    "# Prepare data for making Predictions"
   ]
  },
  {
   "cell_type": "code",
   "execution_count": 75,
   "id": "cc195e33",
   "metadata": {},
   "outputs": [],
   "source": [
    "test = B[B.Loan_Status_pred == \"N\"]"
   ]
  },
  {
   "cell_type": "code",
   "execution_count": 76,
   "id": "c2a393dd",
   "metadata": {},
   "outputs": [],
   "source": [
    "test = test.drop(labels=[\"Loan_Status_pred\",\"Loan_ID\",\"LoanAmount\"],axis=1)"
   ]
  },
  {
   "cell_type": "code",
   "execution_count": 77,
   "id": "9b385393",
   "metadata": {},
   "outputs": [],
   "source": [
    "replacer(test)"
   ]
  },
  {
   "cell_type": "code",
   "execution_count": 78,
   "id": "ae94ad51",
   "metadata": {},
   "outputs": [
    {
     "data": {
      "text/plain": [
       "Gender               0\n",
       "Married              0\n",
       "Dependents           0\n",
       "Education            0\n",
       "Self_Employed        0\n",
       "ApplicantIncome      0\n",
       "CoapplicantIncome    0\n",
       "Loan_Amount_Term     0\n",
       "Credit_History       0\n",
       "Property_Area        0\n",
       "dtype: int64"
      ]
     },
     "execution_count": 78,
     "metadata": {},
     "output_type": "execute_result"
    }
   ],
   "source": [
    "test.isna().sum()"
   ]
  },
  {
   "cell_type": "code",
   "execution_count": 79,
   "id": "fe6614e8",
   "metadata": {},
   "outputs": [
    {
     "data": {
      "text/plain": [
       "(725, 19)"
      ]
     },
     "execution_count": 79,
     "metadata": {},
     "output_type": "execute_result"
    }
   ],
   "source": [
    "Xnew.shape"
   ]
  },
  {
   "cell_type": "code",
   "execution_count": 80,
   "id": "f8588909",
   "metadata": {},
   "outputs": [],
   "source": [
    "ss1 = StandardScaler()\n",
    "X1 = pd.DataFrame(ss1.fit_transform(test[con]),columns=con)\n",
    "X2 = pd.get_dummies(test[cat])\n",
    "X2.index = range(0,64)\n",
    "Xnew = X1.join(X2)\n"
   ]
  },
  {
   "cell_type": "code",
   "execution_count": 81,
   "id": "b18c7bd6",
   "metadata": {},
   "outputs": [],
   "source": [
    "pred = model.predict(Xnew)"
   ]
  },
  {
   "cell_type": "code",
   "execution_count": 82,
   "id": "071b99d1",
   "metadata": {},
   "outputs": [
    {
     "data": {
      "text/plain": [
       "array([[130.21226659],\n",
       "       [285.81174605],\n",
       "       [137.13872913],\n",
       "       [106.80328902],\n",
       "       [ 95.22027989],\n",
       "       [143.54276247],\n",
       "       [ 93.77634918],\n",
       "       [135.44818787],\n",
       "       [128.44456758],\n",
       "       [127.42635821],\n",
       "       [140.59369361],\n",
       "       [148.69387705],\n",
       "       [124.05493442],\n",
       "       [150.63427853],\n",
       "       [160.98071324],\n",
       "       [124.76962896],\n",
       "       [ 82.19167492],\n",
       "       [107.01611367],\n",
       "       [ 90.13249568],\n",
       "       [103.91374447],\n",
       "       [116.10896449],\n",
       "       [260.39575151],\n",
       "       [158.01032974],\n",
       "       [130.46059313],\n",
       "       [174.17330266],\n",
       "       [200.39117664],\n",
       "       [106.24909598],\n",
       "       [103.68890255],\n",
       "       [ 78.0249529 ],\n",
       "       [ 72.70752799],\n",
       "       [119.14110344],\n",
       "       [ 88.54718675],\n",
       "       [101.21657094],\n",
       "       [139.01852785],\n",
       "       [112.24739567],\n",
       "       [155.76873566],\n",
       "       [122.13455223],\n",
       "       [149.19017387],\n",
       "       [171.37388761],\n",
       "       [145.2602693 ],\n",
       "       [342.1042384 ],\n",
       "       [ 96.45031778],\n",
       "       [112.69208163],\n",
       "       [204.97305461],\n",
       "       [141.27040857],\n",
       "       [116.62020985],\n",
       "       [114.03696204],\n",
       "       [142.59514322],\n",
       "       [ 99.16603229],\n",
       "       [141.92202784],\n",
       "       [179.58879339],\n",
       "       [178.44869217],\n",
       "       [114.5850357 ],\n",
       "       [127.51370561],\n",
       "       [274.67777103],\n",
       "       [112.47297103],\n",
       "       [176.06632784],\n",
       "       [118.36302872],\n",
       "       [ 90.70151717],\n",
       "       [ 68.91354525],\n",
       "       [134.12790199],\n",
       "       [131.82305488],\n",
       "       [142.32273875],\n",
       "       [131.77376437]])"
      ]
     },
     "execution_count": 82,
     "metadata": {},
     "output_type": "execute_result"
    }
   ],
   "source": [
    "pred"
   ]
  },
  {
   "cell_type": "code",
   "execution_count": 83,
   "id": "54910e1c",
   "metadata": {},
   "outputs": [
    {
     "data": {
      "text/html": [
       "<div>\n",
       "<style scoped>\n",
       "    .dataframe tbody tr th:only-of-type {\n",
       "        vertical-align: middle;\n",
       "    }\n",
       "\n",
       "    .dataframe tbody tr th {\n",
       "        vertical-align: top;\n",
       "    }\n",
       "\n",
       "    .dataframe thead th {\n",
       "        text-align: right;\n",
       "    }\n",
       "</style>\n",
       "<table border=\"1\" class=\"dataframe\">\n",
       "  <thead>\n",
       "    <tr style=\"text-align: right;\">\n",
       "      <th></th>\n",
       "      <th>Loan_ID</th>\n",
       "      <th>Gender</th>\n",
       "      <th>Married</th>\n",
       "      <th>Dependents</th>\n",
       "      <th>Education</th>\n",
       "      <th>Self_Employed</th>\n",
       "      <th>ApplicantIncome</th>\n",
       "      <th>CoapplicantIncome</th>\n",
       "      <th>LoanAmount</th>\n",
       "      <th>Loan_Amount_Term</th>\n",
       "      <th>Credit_History</th>\n",
       "      <th>Property_Area</th>\n",
       "      <th>Loan_Status_pred</th>\n",
       "    </tr>\n",
       "  </thead>\n",
       "  <tbody>\n",
       "    <tr>\n",
       "      <th>0</th>\n",
       "      <td>LP001015</td>\n",
       "      <td>Male</td>\n",
       "      <td>Yes</td>\n",
       "      <td>0</td>\n",
       "      <td>Graduate</td>\n",
       "      <td>No</td>\n",
       "      <td>5720</td>\n",
       "      <td>0</td>\n",
       "      <td>110.0</td>\n",
       "      <td>360.0</td>\n",
       "      <td>1.0</td>\n",
       "      <td>Urban</td>\n",
       "      <td>Y</td>\n",
       "    </tr>\n",
       "    <tr>\n",
       "      <th>1</th>\n",
       "      <td>LP001022</td>\n",
       "      <td>Male</td>\n",
       "      <td>Yes</td>\n",
       "      <td>1</td>\n",
       "      <td>Graduate</td>\n",
       "      <td>No</td>\n",
       "      <td>3076</td>\n",
       "      <td>1500</td>\n",
       "      <td>126.0</td>\n",
       "      <td>360.0</td>\n",
       "      <td>1.0</td>\n",
       "      <td>Urban</td>\n",
       "      <td>Y</td>\n",
       "    </tr>\n",
       "    <tr>\n",
       "      <th>2</th>\n",
       "      <td>LP001031</td>\n",
       "      <td>Male</td>\n",
       "      <td>Yes</td>\n",
       "      <td>2</td>\n",
       "      <td>Graduate</td>\n",
       "      <td>No</td>\n",
       "      <td>5000</td>\n",
       "      <td>1800</td>\n",
       "      <td>208.0</td>\n",
       "      <td>360.0</td>\n",
       "      <td>1.0</td>\n",
       "      <td>Urban</td>\n",
       "      <td>Y</td>\n",
       "    </tr>\n",
       "    <tr>\n",
       "      <th>3</th>\n",
       "      <td>LP001035</td>\n",
       "      <td>Male</td>\n",
       "      <td>Yes</td>\n",
       "      <td>2</td>\n",
       "      <td>Graduate</td>\n",
       "      <td>No</td>\n",
       "      <td>2340</td>\n",
       "      <td>2546</td>\n",
       "      <td>100.0</td>\n",
       "      <td>360.0</td>\n",
       "      <td>NaN</td>\n",
       "      <td>Urban</td>\n",
       "      <td>Y</td>\n",
       "    </tr>\n",
       "    <tr>\n",
       "      <th>4</th>\n",
       "      <td>LP001051</td>\n",
       "      <td>Male</td>\n",
       "      <td>No</td>\n",
       "      <td>0</td>\n",
       "      <td>Not Graduate</td>\n",
       "      <td>No</td>\n",
       "      <td>3276</td>\n",
       "      <td>0</td>\n",
       "      <td>78.0</td>\n",
       "      <td>360.0</td>\n",
       "      <td>1.0</td>\n",
       "      <td>Urban</td>\n",
       "      <td>Y</td>\n",
       "    </tr>\n",
       "  </tbody>\n",
       "</table>\n",
       "</div>"
      ],
      "text/plain": [
       "    Loan_ID Gender Married Dependents     Education Self_Employed  \\\n",
       "0  LP001015   Male     Yes          0      Graduate            No   \n",
       "1  LP001022   Male     Yes          1      Graduate            No   \n",
       "2  LP001031   Male     Yes          2      Graduate            No   \n",
       "3  LP001035   Male     Yes          2      Graduate            No   \n",
       "4  LP001051   Male      No          0  Not Graduate            No   \n",
       "\n",
       "   ApplicantIncome  CoapplicantIncome  LoanAmount  Loan_Amount_Term  \\\n",
       "0             5720                  0       110.0             360.0   \n",
       "1             3076               1500       126.0             360.0   \n",
       "2             5000               1800       208.0             360.0   \n",
       "3             2340               2546       100.0             360.0   \n",
       "4             3276                  0        78.0             360.0   \n",
       "\n",
       "   Credit_History Property_Area Loan_Status_pred  \n",
       "0             1.0         Urban                Y  \n",
       "1             1.0         Urban                Y  \n",
       "2             1.0         Urban                Y  \n",
       "3             NaN         Urban                Y  \n",
       "4             1.0         Urban                Y  "
      ]
     },
     "execution_count": 83,
     "metadata": {},
     "output_type": "execute_result"
    }
   ],
   "source": [
    "B.head()"
   ]
  },
  {
   "cell_type": "code",
   "execution_count": 84,
   "id": "ae471ba3",
   "metadata": {},
   "outputs": [
    {
     "data": {
      "text/html": [
       "<div>\n",
       "<style scoped>\n",
       "    .dataframe tbody tr th:only-of-type {\n",
       "        vertical-align: middle;\n",
       "    }\n",
       "\n",
       "    .dataframe tbody tr th {\n",
       "        vertical-align: top;\n",
       "    }\n",
       "\n",
       "    .dataframe thead th {\n",
       "        text-align: right;\n",
       "    }\n",
       "</style>\n",
       "<table border=\"1\" class=\"dataframe\">\n",
       "  <thead>\n",
       "    <tr style=\"text-align: right;\">\n",
       "      <th></th>\n",
       "      <th>Loan_ID</th>\n",
       "      <th>Gender</th>\n",
       "      <th>Married</th>\n",
       "      <th>Dependents</th>\n",
       "      <th>Education</th>\n",
       "      <th>Self_Employed</th>\n",
       "      <th>ApplicantIncome</th>\n",
       "      <th>CoapplicantIncome</th>\n",
       "      <th>LoanAmount</th>\n",
       "      <th>Loan_Amount_Term</th>\n",
       "      <th>Credit_History</th>\n",
       "      <th>Property_Area</th>\n",
       "      <th>Loan_Status_pred</th>\n",
       "    </tr>\n",
       "  </thead>\n",
       "  <tbody>\n",
       "    <tr>\n",
       "      <th>7</th>\n",
       "      <td>LP001056</td>\n",
       "      <td>Male</td>\n",
       "      <td>Yes</td>\n",
       "      <td>2</td>\n",
       "      <td>Not Graduate</td>\n",
       "      <td>No</td>\n",
       "      <td>3881</td>\n",
       "      <td>0</td>\n",
       "      <td>147.0</td>\n",
       "      <td>360.0</td>\n",
       "      <td>0.0</td>\n",
       "      <td>Rural</td>\n",
       "      <td>N</td>\n",
       "    </tr>\n",
       "    <tr>\n",
       "      <th>13</th>\n",
       "      <td>LP001094</td>\n",
       "      <td>Male</td>\n",
       "      <td>Yes</td>\n",
       "      <td>2</td>\n",
       "      <td>Graduate</td>\n",
       "      <td>NaN</td>\n",
       "      <td>12173</td>\n",
       "      <td>0</td>\n",
       "      <td>166.0</td>\n",
       "      <td>360.0</td>\n",
       "      <td>0.0</td>\n",
       "      <td>Semiurban</td>\n",
       "      <td>N</td>\n",
       "    </tr>\n",
       "    <tr>\n",
       "      <th>25</th>\n",
       "      <td>LP001153</td>\n",
       "      <td>Male</td>\n",
       "      <td>No</td>\n",
       "      <td>0</td>\n",
       "      <td>Graduate</td>\n",
       "      <td>No</td>\n",
       "      <td>0</td>\n",
       "      <td>24000</td>\n",
       "      <td>148.0</td>\n",
       "      <td>360.0</td>\n",
       "      <td>0.0</td>\n",
       "      <td>Rural</td>\n",
       "      <td>N</td>\n",
       "    </tr>\n",
       "    <tr>\n",
       "      <th>35</th>\n",
       "      <td>LP001203</td>\n",
       "      <td>Male</td>\n",
       "      <td>No</td>\n",
       "      <td>0</td>\n",
       "      <td>Graduate</td>\n",
       "      <td>No</td>\n",
       "      <td>3150</td>\n",
       "      <td>0</td>\n",
       "      <td>176.0</td>\n",
       "      <td>360.0</td>\n",
       "      <td>0.0</td>\n",
       "      <td>Semiurban</td>\n",
       "      <td>N</td>\n",
       "    </tr>\n",
       "    <tr>\n",
       "      <th>55</th>\n",
       "      <td>LP001313</td>\n",
       "      <td>Male</td>\n",
       "      <td>No</td>\n",
       "      <td>0</td>\n",
       "      <td>Graduate</td>\n",
       "      <td>No</td>\n",
       "      <td>2750</td>\n",
       "      <td>0</td>\n",
       "      <td>130.0</td>\n",
       "      <td>360.0</td>\n",
       "      <td>0.0</td>\n",
       "      <td>Urban</td>\n",
       "      <td>N</td>\n",
       "    </tr>\n",
       "    <tr>\n",
       "      <th>...</th>\n",
       "      <td>...</td>\n",
       "      <td>...</td>\n",
       "      <td>...</td>\n",
       "      <td>...</td>\n",
       "      <td>...</td>\n",
       "      <td>...</td>\n",
       "      <td>...</td>\n",
       "      <td>...</td>\n",
       "      <td>...</td>\n",
       "      <td>...</td>\n",
       "      <td>...</td>\n",
       "      <td>...</td>\n",
       "      <td>...</td>\n",
       "    </tr>\n",
       "    <tr>\n",
       "      <th>325</th>\n",
       "      <td>LP002802</td>\n",
       "      <td>Male</td>\n",
       "      <td>No</td>\n",
       "      <td>0</td>\n",
       "      <td>Graduate</td>\n",
       "      <td>No</td>\n",
       "      <td>2875</td>\n",
       "      <td>2416</td>\n",
       "      <td>95.0</td>\n",
       "      <td>6.0</td>\n",
       "      <td>0.0</td>\n",
       "      <td>Semiurban</td>\n",
       "      <td>N</td>\n",
       "    </tr>\n",
       "    <tr>\n",
       "      <th>339</th>\n",
       "      <td>LP002858</td>\n",
       "      <td>Female</td>\n",
       "      <td>No</td>\n",
       "      <td>0</td>\n",
       "      <td>Graduate</td>\n",
       "      <td>No</td>\n",
       "      <td>4333</td>\n",
       "      <td>2333</td>\n",
       "      <td>162.0</td>\n",
       "      <td>360.0</td>\n",
       "      <td>0.0</td>\n",
       "      <td>Rural</td>\n",
       "      <td>N</td>\n",
       "    </tr>\n",
       "    <tr>\n",
       "      <th>346</th>\n",
       "      <td>LP002879</td>\n",
       "      <td>Male</td>\n",
       "      <td>Yes</td>\n",
       "      <td>0</td>\n",
       "      <td>Graduate</td>\n",
       "      <td>No</td>\n",
       "      <td>3391</td>\n",
       "      <td>1966</td>\n",
       "      <td>133.0</td>\n",
       "      <td>360.0</td>\n",
       "      <td>0.0</td>\n",
       "      <td>Rural</td>\n",
       "      <td>N</td>\n",
       "    </tr>\n",
       "    <tr>\n",
       "      <th>351</th>\n",
       "      <td>LP002901</td>\n",
       "      <td>Male</td>\n",
       "      <td>No</td>\n",
       "      <td>0</td>\n",
       "      <td>Graduate</td>\n",
       "      <td>No</td>\n",
       "      <td>2283</td>\n",
       "      <td>15000</td>\n",
       "      <td>106.0</td>\n",
       "      <td>360.0</td>\n",
       "      <td>NaN</td>\n",
       "      <td>Rural</td>\n",
       "      <td>N</td>\n",
       "    </tr>\n",
       "    <tr>\n",
       "      <th>354</th>\n",
       "      <td>LP002921</td>\n",
       "      <td>Male</td>\n",
       "      <td>Yes</td>\n",
       "      <td>3+</td>\n",
       "      <td>Not Graduate</td>\n",
       "      <td>No</td>\n",
       "      <td>5316</td>\n",
       "      <td>187</td>\n",
       "      <td>158.0</td>\n",
       "      <td>180.0</td>\n",
       "      <td>0.0</td>\n",
       "      <td>Semiurban</td>\n",
       "      <td>N</td>\n",
       "    </tr>\n",
       "  </tbody>\n",
       "</table>\n",
       "<p>64 rows × 13 columns</p>\n",
       "</div>"
      ],
      "text/plain": [
       "      Loan_ID  Gender Married Dependents     Education Self_Employed  \\\n",
       "7    LP001056    Male     Yes          2  Not Graduate            No   \n",
       "13   LP001094    Male     Yes          2      Graduate           NaN   \n",
       "25   LP001153    Male      No          0      Graduate            No   \n",
       "35   LP001203    Male      No          0      Graduate            No   \n",
       "55   LP001313    Male      No          0      Graduate            No   \n",
       "..        ...     ...     ...        ...           ...           ...   \n",
       "325  LP002802    Male      No          0      Graduate            No   \n",
       "339  LP002858  Female      No          0      Graduate            No   \n",
       "346  LP002879    Male     Yes          0      Graduate            No   \n",
       "351  LP002901    Male      No          0      Graduate            No   \n",
       "354  LP002921    Male     Yes         3+  Not Graduate            No   \n",
       "\n",
       "     ApplicantIncome  CoapplicantIncome  LoanAmount  Loan_Amount_Term  \\\n",
       "7               3881                  0       147.0             360.0   \n",
       "13             12173                  0       166.0             360.0   \n",
       "25                 0              24000       148.0             360.0   \n",
       "35              3150                  0       176.0             360.0   \n",
       "55              2750                  0       130.0             360.0   \n",
       "..               ...                ...         ...               ...   \n",
       "325             2875               2416        95.0               6.0   \n",
       "339             4333               2333       162.0             360.0   \n",
       "346             3391               1966       133.0             360.0   \n",
       "351             2283              15000       106.0             360.0   \n",
       "354             5316                187       158.0             180.0   \n",
       "\n",
       "     Credit_History Property_Area Loan_Status_pred  \n",
       "7               0.0         Rural                N  \n",
       "13              0.0     Semiurban                N  \n",
       "25              0.0         Rural                N  \n",
       "35              0.0     Semiurban                N  \n",
       "55              0.0         Urban                N  \n",
       "..              ...           ...              ...  \n",
       "325             0.0     Semiurban                N  \n",
       "339             0.0         Rural                N  \n",
       "346             0.0         Rural                N  \n",
       "351             NaN         Rural                N  \n",
       "354             0.0     Semiurban                N  \n",
       "\n",
       "[64 rows x 13 columns]"
      ]
     },
     "execution_count": 84,
     "metadata": {},
     "output_type": "execute_result"
    }
   ],
   "source": [
    "B[B.Loan_Status_pred == \"N\"]"
   ]
  },
  {
   "cell_type": "markdown",
   "id": "9716d5fb",
   "metadata": {},
   "source": [
    "# b)  if duration is less than equal to 20 years, is customer eligible for required amount for some longer duration? What is that duration?(Regression)"
   ]
  },
  {
   "cell_type": "code",
   "execution_count": 86,
   "id": "8f3346d2",
   "metadata": {},
   "outputs": [],
   "source": [
    "test = B[B.Loan_Amount_Term <= 240]\n",
    "test.index = range(0,34)"
   ]
  },
  {
   "cell_type": "code",
   "execution_count": 87,
   "id": "2b922687",
   "metadata": {},
   "outputs": [],
   "source": [
    "replacer(A)"
   ]
  },
  {
   "cell_type": "code",
   "execution_count": 88,
   "id": "be94ee03",
   "metadata": {},
   "outputs": [],
   "source": [
    "Y = A[[\"Loan_Amount_Term\"]]\n",
    "X = A.drop(labels=[\"Loan_Amount_Term\",\"Loan_ID\",\"Loan_Status\"],axis=1)"
   ]
  },
  {
   "cell_type": "code",
   "execution_count": 89,
   "id": "5aee0b90",
   "metadata": {},
   "outputs": [],
   "source": [
    "Xnew = data_prep(X)"
   ]
  },
  {
   "cell_type": "code",
   "execution_count": 90,
   "id": "d74b87d9",
   "metadata": {},
   "outputs": [],
   "source": [
    "from sklearn.model_selection import train_test_split\n",
    "xtrain,xtest,ytrain,ytest = train_test_split(Xnew,Y,test_size=0.2,random_state=21)"
   ]
  },
  {
   "cell_type": "code",
   "execution_count": 91,
   "id": "0c45ee18",
   "metadata": {},
   "outputs": [
    {
     "name": "stdout",
     "output_type": "stream",
     "text": [
      "training error:  36.58006474242111\n",
      "testing error:  34.486120840843725\n"
     ]
    }
   ],
   "source": [
    "lm = LinearRegression()\n",
    "find_overfit_con(lm,xtrain,xtest,ytrain,ytest)"
   ]
  },
  {
   "cell_type": "code",
   "execution_count": 93,
   "id": "3d94bcf1",
   "metadata": {},
   "outputs": [],
   "source": [
    "replacer(test)\n",
    "X = test.drop(labels=[\"Loan_Amount_Term\",\"Loan_ID\",'Loan_Status_pred'],axis=1)\n",
    "Xnew = data_prep(X)"
   ]
  },
  {
   "cell_type": "code",
   "execution_count": 94,
   "id": "707e7353",
   "metadata": {},
   "outputs": [
    {
     "data": {
      "text/plain": [
       "array([[347.34221757],\n",
       "       [321.07582753],\n",
       "       [355.65110838],\n",
       "       [312.42234927],\n",
       "       [349.64331229],\n",
       "       [334.86760046],\n",
       "       [332.21006182],\n",
       "       [347.06494185],\n",
       "       [324.70892655],\n",
       "       [321.97909501],\n",
       "       [360.27920852],\n",
       "       [329.12884171],\n",
       "       [338.10475616],\n",
       "       [350.46330787],\n",
       "       [350.21513959],\n",
       "       [322.08329792],\n",
       "       [357.16252866],\n",
       "       [337.56491043],\n",
       "       [357.76491827],\n",
       "       [343.13446752],\n",
       "       [333.4430377 ],\n",
       "       [346.0474132 ],\n",
       "       [354.77338849],\n",
       "       [359.24997626],\n",
       "       [363.88093817],\n",
       "       [349.70757196],\n",
       "       [353.63002369],\n",
       "       [316.70734395],\n",
       "       [360.97473789],\n",
       "       [320.59539337],\n",
       "       [335.88489896],\n",
       "       [313.85659252],\n",
       "       [321.97332673],\n",
       "       [348.48462164]])"
      ]
     },
     "execution_count": 94,
     "metadata": {},
     "output_type": "execute_result"
    }
   ],
   "source": [
    "lm.predict(Xnew)"
   ]
  },
  {
   "cell_type": "code",
   "execution_count": null,
   "id": "838c855f",
   "metadata": {},
   "outputs": [],
   "source": []
  }
 ],
 "metadata": {
  "kernelspec": {
   "display_name": "Python 3",
   "language": "python",
   "name": "python3"
  },
  "language_info": {
   "codemirror_mode": {
    "name": "ipython",
    "version": 3
   },
   "file_extension": ".py",
   "mimetype": "text/x-python",
   "name": "python",
   "nbconvert_exporter": "python",
   "pygments_lexer": "ipython3",
   "version": "3.8.8"
  }
 },
 "nbformat": 4,
 "nbformat_minor": 5
}
